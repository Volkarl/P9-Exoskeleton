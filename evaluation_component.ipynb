{
 "cells": [
  {
   "cell_type": "code",
   "execution_count": 1,
   "metadata": {},
   "outputs": [],
   "source": [
    "def evaluate_results(model, training_history, indexes, ground_truth, batched_test_data):\n",
    "    plot_results(training_history, model, batched_test_data, indexes, ground_truth)\n",
    "    evaluate_model(model, batched_test_data)"
   ]
  },
  {
   "cell_type": "code",
   "execution_count": 2,
   "metadata": {},
   "outputs": [],
   "source": [
    "def plot_train_history(history, title):\n",
    "  loss = history.history['loss']\n",
    "  val_loss = history.history['val_loss']\n",
    "  epochs = range(len(loss))\n",
    "  plt.figure()\n",
    "  plt.plot(epochs, loss, 'b', label='Training loss')\n",
    "  plt.plot(epochs, val_loss, 'r', label='Validation loss')\n",
    "  plt.title(title)\n",
    "  plt.legend()\n",
    "  plt.show()\n",
    "\n",
    "def plot_all(trained_model, batched_test_data, indexes, ground_truth):\n",
    "    predictions = [trained_model.predict(elem)[0] for elem in batched_test_data]\n",
    "    pred_size = len(indexes) - len(predictions)\n",
    "    plt.plot(indexes[pred_size:], predictions, 'r', label='Prediction')\n",
    "    plt.plot(indexes[pred_size:], ground_truth[pred_size:], 'b', label='Ground Truth')\n",
    "    plt.legend(loc='upper left')\n",
    "\n",
    "def plot_results(training_history, trained_model, batched_test_data, indexes, ground_truth):\n",
    "    plot_train_history(training_history, 'Multi-Step Training and validation loss')\n",
    "    plot_all(trained_model, batched_test_data, indexes, ground_truth)"
   ]
  },
  {
   "cell_type": "code",
   "execution_count": 3,
   "metadata": {},
   "outputs": [],
   "source": [
    "def evaluate_model(trained_model, batched_test_data):\n",
    "    trained_model.evaluate(batched_test_data)"
   ]
  },
  {
   "cell_type": "code",
   "execution_count": null,
   "metadata": {},
   "outputs": [],
   "source": []
  }
 ],
 "metadata": {
  "kernelspec": {
   "display_name": "Python 3",
   "language": "python",
   "name": "python3"
  },
  "language_info": {
   "codemirror_mode": {
    "name": "ipython",
    "version": 3
   },
   "file_extension": ".py",
   "mimetype": "text/x-python",
   "name": "python",
   "nbconvert_exporter": "python",
   "pygments_lexer": "ipython3",
   "version": "3.7.4"
  }
 },
 "nbformat": 4,
 "nbformat_minor": 2
}
