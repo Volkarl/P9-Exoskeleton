{
 "cells": [
  {
   "cell_type": "code",
   "execution_count": null,
   "metadata": {},
   "outputs": [],
   "source": [
    "def evaluate_results(trained_model, training_history, test_ground_truth, batched_test_data, test_data_indexes, training_time):\n",
    "    execution_time = plot_results(training_history, trained_model, test_ground_truth, batched_test_data, test_data_indexes)\n",
    "    evaluate_model(trained_model, batched_test_data)\n",
    "    print_time(training_time, execution_time)"
   ]
  },
  {
   "cell_type": "code",
   "execution_count": null,
   "metadata": {},
   "outputs": [],
   "source": [
    "def plot_train_history(history, title):\n",
    "  loss = history.history['loss']\n",
    "  val_loss = history.history['val_loss']\n",
    "  epochs = range(len(loss))\n",
    "  plt.figure()\n",
    "  plt.plot(epochs, loss, 'b', label='Training loss')\n",
    "  plt.plot(epochs, val_loss, 'r', label='Validation loss')\n",
    "  plt.title(title)\n",
    "  plt.legend()\n",
    "  plt.show()\n",
    "\n",
    "def plot_all(trained_model, test_ground_truth, batched_test_data, test_data_indexes):\n",
    "    start = timer()\n",
    "    predictions = [trained_model.predict(elem)[0] for elem in batched_test_data]\n",
    "    end = timer()\n",
    "    plt.plot(test_data_indexes, predictions, 'r', label='Prediction')\n",
    "    plt.plot(test_data_indexes, np.ndarray.flatten(test_ground_truth), 'b', label='Ground Truth')\n",
    "    plt.legend(loc='upper left')\n",
    "    obs = len(test_data_indexes)\n",
    "    return f\"time {end - start}, observations {obs}, time per observation {(end - start) / obs}\"\n",
    "\n",
    "def plot_results(training_history, trained_model, test_ground_truth, batched_test_data, test_data_indexes):\n",
    "    plot_train_history(training_history, 'Multi-Step Training and validation loss')\n",
    "    execution_time = plot_all(trained_model, test_ground_truth, batched_test_data, test_data_indexes)\n",
    "    return execution_time"
   ]
  },
  {
   "cell_type": "code",
   "execution_count": null,
   "metadata": {},
   "outputs": [],
   "source": [
    "def evaluate_model(trained_model, batched_test_data):\n",
    "    trained_model.evaluate(batched_test_data)"
   ]
  },
  {
   "cell_type": "code",
   "execution_count": null,
   "metadata": {},
   "outputs": [],
   "source": [
    "def print_time(training_time, execution_time):\n",
    "    print(f\"Total training time: {training_time} seconds\")\n",
    "    print(f\"Execution time: {execution_time} seconds\")"
   ]
  }
 ],
 "metadata": {
  "kernelspec": {
   "display_name": "Python 3",
   "language": "python",
   "name": "python3"
  },
  "language_info": {
   "codemirror_mode": {
    "name": "ipython",
    "version": 3
   },
   "file_extension": ".py",
   "mimetype": "text/x-python",
   "name": "python",
   "nbconvert_exporter": "python",
   "pygments_lexer": "ipython3",
   "version": "3.7.4"
  }
 },
 "nbformat": 4,
 "nbformat_minor": 2
}
