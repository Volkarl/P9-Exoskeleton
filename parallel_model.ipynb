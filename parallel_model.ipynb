{
 "cells": [
  {
   "cell_type": "code",
   "execution_count": null,
   "metadata": {
    "pycharm": {
     "name": "#%%\n"
    }
   },
   "outputs": [],
   "source": [
    "from tensorflow.keras.layers import Input, LSTM, Dense, Conv1D, concatenate, Flatten, Dropout\n",
    "from tensorflow.keras.models import Model"
   ]
  },
  {
   "cell_type": "code",
   "execution_count": null,
   "metadata": {
    "collapsed": true
   },
   "outputs": [],
   "source": [
    "def run_parallel(data_shape, batched_train_data, batched_val_data, train_slices, \n",
    "             val_slices, BATCH_SIZE, EPOCHS, FUTURE_TARGET):\n",
    "    model = compile_model(data_shape, FUTURE_TARGET)\n",
    "    training_history, training_time = fit_model(model, batched_train_data, batched_val_data, train_slices, \n",
    "                                                val_slices, BATCH_SIZE, EPOCHS)\n",
    "    return model, training_history, training_time"
   ]
  },
  {
   "cell_type": "code",
   "execution_count": null,
   "metadata": {
    "pycharm": {
     "name": "#%%\n"
    }
   },
   "outputs": [],
   "source": [
    "def compile_model(data_shape, FUTURE_TARGET):\n",
    "    \n",
    "    inputs = Input(shape=data_shape, name='main_input')\n",
    "    conv = Conv1D(filters=50,kernel_size=10,strides=2,padding='same',activation='relu')(inputs)\n",
    "    lstm = LSTM(32,return_sequences=False)(inputs) #true if deep lstm\n",
    "    x = Flatten()(conv)\n",
    "    concat = concatenate([lstm,x])\n",
    "    main_output = Dense(1,name='main_output')(concat)\n",
    "    model = Model(inputs=[inputs], outputs=[main_output])\n",
    "    \n",
    "    model.summary()\n",
    "    \n",
    "    model.compile(optimizer=tf.keras.optimizers.Adam(), loss={'main_output':'mae'},\n",
    "                  loss_weights={'main_output':1}, metrics=['mae', 'mape', 'mse'])\n",
    "    return model"
   ]
  },
  {
   "cell_type": "code",
   "execution_count": null,
   "metadata": {
    "pycharm": {
     "name": "#%%\n"
    }
   },
   "outputs": [],
   "source": [
    "def fit_model(model, batched_train_data, batched_val_data, train_slices, val_slices, BATCH_SIZE, EPOCHS):\n",
    "    train_batches = train_slices // BATCH_SIZE \n",
    "    val_batches = val_slices // BATCH_SIZE\n",
    "    # Splits the dataset into batches of this size: we perform gradiant descent once per batch\n",
    "    start = timer()\n",
    "    training_history = model.fit(batched_train_data, epochs=EPOCHS, \n",
    "                                 steps_per_epoch=train_batches,\n",
    "                                 validation_data=batched_val_data,\n",
    "                                 validation_steps=val_batches)\n",
    "    end = timer()\n",
    "    return training_history, end - start # time in seconds\n"
   ]
  }
 ],
 "metadata": {
  "kernelspec": {
   "display_name": "Python 3",
   "language": "python",
   "name": "python3"
  },
  "language_info": {
   "codemirror_mode": {
    "name": "ipython",
    "version": 3
   },
   "file_extension": ".py",
   "mimetype": "text/x-python",
   "name": "python",
   "nbconvert_exporter": "python",
   "pygments_lexer": "ipython3",
   "version": "3.7.4"
  },
  "pycharm": {
   "stem_cell": {
    "cell_type": "raw",
    "metadata": {
     "collapsed": false
    },
    "source": []
   }
  }
 },
 "nbformat": 4,
 "nbformat_minor": 1
}
