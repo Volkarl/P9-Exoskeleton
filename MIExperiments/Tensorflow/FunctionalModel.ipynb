{
 "cells": [
  {
   "cell_type": "code",
   "execution_count": 66,
   "metadata": {
    "collapsed": true,
    "pycharm": {
     "is_executing": false
    }
   },
   "outputs": [],
   "source": [
    "from keras.layers import Input, LSTM, Dense, Conv1D, concatenate\n",
    "from keras.models import Model\n",
    "import tensorflow as tf\n",
    "import pandas as pd\n",
    "\n",
    "\n",
    "BATCH_SIZE = 100"
   ]
  },
  {
   "cell_type": "code",
   "execution_count": 67,
   "outputs": [],
   "source": [
    "#data\n",
    "file_path = \"D:\\GitHub\\P9-Exoskeleton\\Datasets\\DataArk19.csv\"\n",
    "\n",
    "df = pd.read_csv(file_path)\n",
    "\n",
    "TRAIN_SPLIT = round(len(df)/2)\n",
    "\n",
    "print(TRAIN_SPLIT)\n",
    "df.head()"
   ],
   "metadata": {
    "collapsed": false,
    "pycharm": {
     "name": "#%%\n",
     "is_executing": false
    }
   }
  },
  {
   "cell_type": "code",
   "execution_count": 68,
   "outputs": [],
   "source": [
    "columns_data = ['s_1' ,'s_2', 's_3', 's_4', 's_5', 's_6', 's_7', 's_8','angle']\n",
    "\n",
    "batches = tf.data.experimental.make_csv_dataset(file_path, batch_size=BATCH_SIZE,label_name=\"angle\",select_columns=columns_data)"
   ],
   "metadata": {
    "collapsed": false,
    "pycharm": {
     "name": "#%%\n",
     "is_executing": false
    }
   }
  },
  {
   "cell_type": "code",
   "execution_count": 69,
   "outputs": [],
   "source": [
    "#input\n",
    "\n",
    "inputs = Input(shape=(50,8), name='main_input')\n",
    "\n",
    "conv = Conv1D(filters=20,kernel_size=5,strides=2,padding='valid',activation='relu')(inputs)\n",
    "\n",
    "lstm = LSTM(32)(conv)\n",
    "\n",
    "auxiliary_output = Dense(1, activation='sigmoid', name='aux_output')(lstm)\n",
    "\n",
    "print(\"success\")"
   ],
   "metadata": {
    "collapsed": false,
    "pycharm": {
     "name": "#%%\n",
     "is_executing": false
    }
   }
  },
  {
   "cell_type": "code",
   "execution_count": 70,
   "outputs": [],
   "source": [
    "#intermediate layers\n",
    "aux_input = Input(shape=(5,), name='aux_input')\n",
    "\n",
    "concat = concatenate([lstm,aux_input])\n",
    "\n",
    "x = Dense(64, activation='relu')(concat)\n",
    "x = Dense(64, activation='relu')(x)\n",
    "x = Dense(64, activation='relu')(x)\n",
    "\n",
    "main_output = Dense(1, activation='sigmoid',name='main_output')(x)\n",
    "\n",
    "print('success')"
   ],
   "metadata": {
    "collapsed": false,
    "pycharm": {
     "name": "#%%\n",
     "is_executing": false
    }
   }
  },
  {
   "cell_type": "code",
   "execution_count": 71,
   "outputs": [],
   "source": [
    "#model\n",
    "\n",
    "model = Model(inputs=[inputs,aux_input], outputs=[main_output,auxiliary_output])\n",
    "\n",
    "model.summary()\n",
    "\n",
    "model.compile(optimizer=tf.keras.optimizers.RMSprop(clipvalue=1.0), loss={'main_output':'binary_crossentropy',\n",
    "                                                                          'aux_output':'binary_crossentropy'},\n",
    "              loss_weights={'main_output':1, 'aux_output':0.2})\n",
    "\n",
    "model.fit({'main_input': batches, 'aux_input': batches},\n",
    "          {'main_output': batches, 'aux_output': batches},\n",
    "          epochs=50, batch_size=BATCH_SIZE)"
   ],
   "metadata": {
    "collapsed": false,
    "pycharm": {
     "name": "#%%\n",
     "is_executing": false
    }
   }
  }
 ],
 "metadata": {
  "kernelspec": {
   "display_name": "Python 3",
   "language": "python",
   "name": "python3"
  },
  "language_info": {
   "codemirror_mode": {
    "name": "ipython",
    "version": 2
   },
   "file_extension": ".py",
   "mimetype": "text/x-python",
   "name": "python",
   "nbconvert_exporter": "python",
   "pygments_lexer": "ipython2",
   "version": "2.7.6"
  },
  "pycharm": {
   "stem_cell": {
    "cell_type": "raw",
    "source": [],
    "metadata": {
     "collapsed": false
    }
   }
  }
 },
 "nbformat": 4,
 "nbformat_minor": 0
}