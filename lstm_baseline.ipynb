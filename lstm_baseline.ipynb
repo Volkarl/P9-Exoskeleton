{
 "cells": [
  {
   "cell_type": "code",
   "execution_count": null,
   "metadata": {},
   "outputs": [],
   "source": [
    "def run_lstm(data_shape, batched_train_data, batched_val_data, train_slices, \n",
    "             val_slices, BATCH_SIZE, EPOCHS, FUTURE_TARGET):\n",
    "    model = compile_model(data_shape, FUTURE_TARGET)\n",
    "    training_history, training_time = fit_model(model, batched_train_data, batched_val_data, train_slices, \n",
    "                                                val_slices, BATCH_SIZE, EPOCHS)\n",
    "    return model, training_history, training_time"
   ]
  },
  {
   "cell_type": "code",
   "execution_count": null,
   "metadata": {},
   "outputs": [],
   "source": [
    "def compile_model(data_shape, FUTURE_TARGET):\n",
    "    model = tf.keras.models.Sequential()\n",
    "    model.add(tf.keras.layers.LSTM(32, input_shape=data_shape, return_sequences = False))\n",
    "    model.add(tf.keras.layers.Dense(FUTURE_TARGET))\n",
    "    model.compile(optimizer=tf.keras.optimizers.Adam(), loss='mae',metrics=['mae', 'mape', 'mse'])\n",
    "    model.summary()\n",
    "    return model"
   ]
  },
  {
   "cell_type": "code",
   "execution_count": null,
   "metadata": {},
   "outputs": [],
   "source": [
    "def fit_model(model, batched_train_data, batched_val_data, train_slices, val_slices, BATCH_SIZE, EPOCHS):\n",
    "    train_batches = train_slices // BATCH_SIZE \n",
    "    val_batches = val_slices // BATCH_SIZE\n",
    "    # Splits the dataset into batches of this size: we perform gradiant descent once per batch\n",
    "    start = timer()\n",
    "    training_history = model.fit(batched_train_data, epochs=EPOCHS, \n",
    "                                 steps_per_epoch=train_batches,\n",
    "                                 validation_data=batched_val_data,\n",
    "                                 validation_steps=val_batches)\n",
    "    end = timer()\n",
    "    return training_history, end - start # time in seconds"
   ]
  },
  {
   "cell_type": "code",
   "execution_count": null,
   "metadata": {},
   "outputs": [],
   "source": []
  },
  {
   "cell_type": "code",
   "execution_count": null,
   "metadata": {},
   "outputs": [],
   "source": []
  },
  {
   "cell_type": "code",
   "execution_count": null,
   "metadata": {},
   "outputs": [],
   "source": []
  },
  {
   "cell_type": "code",
   "execution_count": null,
   "metadata": {},
   "outputs": [],
   "source": []
  },
  {
   "cell_type": "code",
   "execution_count": null,
   "metadata": {},
   "outputs": [],
   "source": []
  },
  {
   "cell_type": "code",
   "execution_count": null,
   "metadata": {},
   "outputs": [],
   "source": []
  },
  {
   "cell_type": "code",
   "execution_count": null,
   "metadata": {},
   "outputs": [],
   "source": []
  },
  {
   "cell_type": "code",
   "execution_count": null,
   "metadata": {},
   "outputs": [],
   "source": []
  },
  {
   "cell_type": "code",
   "execution_count": null,
   "metadata": {},
   "outputs": [],
   "source": []
  }
 ],
 "metadata": {
  "kernelspec": {
   "display_name": "Python 3",
   "language": "python",
   "name": "python3"
  },
  "language_info": {
   "codemirror_mode": {
    "name": "ipython",
    "version": 3
   },
   "file_extension": ".py",
   "mimetype": "text/x-python",
   "name": "python",
   "nbconvert_exporter": "python",
   "pygments_lexer": "ipython3",
   "version": "3.7.4"
  }
 },
 "nbformat": 4,
 "nbformat_minor": 2
}
