{
 "cells": [
  {
   "cell_type": "code",
   "execution_count": null,
   "metadata": {
    "collapsed": true
   },
   "outputs": [],
   "source": [
    "def run_parallel_deep(data_shape, batched_train_data, batched_val_data, train_slices, \n",
    "             val_slices, BATCH_SIZE, EPOCHS, FUTURE_TARGET, MIN_DELTA, PATIENCE, KERNEL_SIZE, FILTERS, PADDING, LAYER_SIZE, DENSE_SIZE):\n",
    "    model = compile_model_parallel_deep(data_shape, FUTURE_TARGET, KERNEL_SIZE, FILTERS, PADDING, LAYER_SIZE, DENSE_SIZE)\n",
    "    training_history, training_time = fit_model_parallel_deep(model, batched_train_data, batched_val_data, train_slices, \n",
    "                                                val_slices, BATCH_SIZE, EPOCHS, MIN_DELTA, PATIENCE)\n",
    "    return model, training_history, training_time"
   ]
  },
  {
   "cell_type": "code",
   "execution_count": null,
   "metadata": {
    "pycharm": {
     "name": "#%%\n"
    }
   },
   "outputs": [],
   "source": [
    "def compile_model_parallel_deep(data_shape, FUTURE_TARGET, KERNEL_SIZE, FILTERS, PADDING, LAYER_SIZE, DENSE_SIZE):\n",
    "    \n",
    "    inputs = tf.keras.layers.Input(shape=data_shape, name='main_input')\n",
    "    conv = tf.keras.layers.Conv1D(filters=20,kernel_size=KERNEL_SIZE,strides=1,padding=PADDING,activation='relu',dilation_rate=1)(inputs)\n",
    "    conv = tf.keras.layers.Conv1D(filters=30,kernel_size=KERNEL_SIZE,strides=1,padding=PADDING,activation='relu',dilation_rate=2)(conv)\n",
    "    conv = tf.keras.layers.Conv1D(filters=30,kernel_size=KERNEL_SIZE,strides=1,padding=PADDING,activation='relu',dilation_rate=4)(conv)\n",
    "    conv = tf.keras.layers.Conv1D(filters=50,kernel_size=KERNEL_SIZE,strides=1,padding=PADDING,activation='relu',dilation_rate=8)(conv)\n",
    "    lstm = tf.keras.layers.LSTM(LAYER_SIZE,return_sequences=True)(inputs) #true if deep lstm\n",
    "    lstm = tf.keras.layers.Dense(DENSE_SIZE)(lstm)\n",
    "    lstm = tf.keras.layers.LSTM(LAYER_SIZE,return_sequences=True)(lstm)\n",
    "    lstm = tf.keras.layers.Dense(DENSE_SIZE)(lstm)\n",
    "    lstm = tf.keras.layers.LSTM(LAYER_SIZE, return_sequences=False)(lstm)\n",
    "    x = tf.keras.layers.Flatten()(conv)\n",
    "    concat = tf.keras.layers.concatenate([lstm,x])\n",
    "    x = tf.keras.layers.Dense(DENSE_SIZE, activation='relu')(concat)\n",
    "    # x = tf.keras.layers.Dense(DENSE_SIZE, activation='relu')(x)\n",
    "    main_output = tf.keras.layers.Dense(1,name='main_output')(x)\n",
    "    model = tf.keras.models.Model(inputs=[inputs], outputs=[main_output])\n",
    "    \n",
    "    model.summary()\n",
    "    \n",
    "    model.compile(optimizer=tf.keras.optimizers.RMSprop(), loss={'main_output':'mae'},\n",
    "                  loss_weights={'main_output':1}, metrics=['mae', 'mape', 'mse'])\n",
    "    return model"
   ]
  },
  {
   "cell_type": "code",
   "execution_count": null,
   "metadata": {
    "pycharm": {
     "name": "#%%\n"
    }
   },
   "outputs": [],
   "source": [
    "def fit_model_parallel_deep(model, batched_train_data, batched_val_data, train_slices, val_slices, BATCH_SIZE, EPOCHS, MIN_DELTA, PATIENCE):\n",
    "    train_batches = train_slices // BATCH_SIZE \n",
    "    val_batches = val_slices // BATCH_SIZE\n",
    "    # Splits the dataset into batches of this size: we perform gradiant descent once per batch\n",
    "    es = tf.keras.callbacks.EarlyStopping(monitor='val_loss', min_delta=MIN_DELTA, patience=PATIENCE, verbose=1, mode='min', baseline=None, restore_best_weights=True)\n",
    "\n",
    "    start = timer()\n",
    "    training_history = model.fit(batched_train_data, epochs=EPOCHS, \n",
    "                                 steps_per_epoch=train_batches,\n",
    "                                 validation_data=batched_val_data,\n",
    "                                 validation_steps=val_batches,\n",
    "                                 callbacks=[es])\n",
    "    end = timer()\n",
    "    return training_history, end - start # time in seconds\n"
   ]
  }
 ],
 "metadata": {
  "kernelspec": {
   "display_name": "Python 3",
   "language": "python",
   "name": "python3"
  },
  "language_info": {
   "codemirror_mode": {
    "name": "ipython",
    "version": 3
   },
   "file_extension": ".py",
   "mimetype": "text/x-python",
   "name": "python",
   "nbconvert_exporter": "python",
   "pygments_lexer": "ipython3",
   "version": "3.6.8"
  },
  "pycharm": {
   "stem_cell": {
    "cell_type": "raw",
    "metadata": {
     "collapsed": false
    },
    "source": []
   }
  }
 },
 "nbformat": 4,
 "nbformat_minor": 1
}
