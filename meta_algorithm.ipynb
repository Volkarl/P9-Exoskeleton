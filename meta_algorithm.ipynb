{
 "cells": [
  {
   "cell_type": "code",
   "execution_count": 1,
   "metadata": {
    "pycharm": {
     "is_executing": false
    }
   },
   "outputs": [
    {
     "name": "stderr",
     "output_type": "stream",
     "text": [
      "Using TensorFlow backend.\n"
     ]
    }
   ],
   "source": [
    "# Imports\n",
    "import tensorflow as tf\n",
    "import matplotlib as mpl\n",
    "import matplotlib.pyplot as plt\n",
    "import numpy as np\n",
    "import pandas as pd\n",
    "from timeit import default_timer as timer\n",
    "\n",
    "plt.rcParams[\"figure.figsize\"] = (20,10)"
   ]
  },
  {
   "cell_type": "code",
   "execution_count": 5,
   "metadata": {
    "pycharm": {
     "is_executing": false
    }
   },
   "outputs": [],
   "source": [
    "# Parameters \n",
    "# ATTEMPT_NAME=\"LSTM_BASELINE\"\n",
    "# DATASET_FILE_PATH= [\"Datasets\\\\uniformdata.xlsx\", \"Datasets\\\\uniformdata.xlsx\", \"Datasets\\\\uniformdata.xlsx\", \"Datasets\\\\uniformdata.xlsx\", \"Datasets\\\\uniformdata.xlsx\"]\n",
    "# DATASET_SHEET_TITLE= [\"data_uniforma\", \"data_uniformb\", \"data_uniformc\", \"data_uniformd\", \"data_uniforme\"]\n",
    "# GRANULARITY=10\n",
    "# STEP_SIZE_SLIDING_WINDOW=5\n",
    "# PAST_HISTORY=20\n",
    "# FUTURE_TARGET=1\n",
    "# VAL_PERCENT=0.1\n",
    "# EPOCHS=5\n",
    "# BATCH_SIZE=10\n",
    "# SMOOTHING=50\n",
    "# SHUFFLE_BUFFER_SIZE=100\n",
    "# MEAN=False"
   ]
  },
  {
   "cell_type": "code",
   "execution_count": 6,
   "metadata": {
    "pycharm": {
     "is_executing": false
    }
   },
   "outputs": [],
   "source": [
    "def run_all(DATASET_FILE_PATH, DATASET_SHEET_TITLE, GRANULARITY, STEP_SIZE_SLIDING_WINDOW, PAST_HISTORY, \n",
    "            FUTURE_TARGET, VAL_PERCENT, EPOCHS, BATCH_SIZE, SMOOTHING, ATTEMPT_NAME, SHUFFLE_BUFFER_SIZE, MEAN): \n",
    "    batch_train, batch_val, batch_test, test_ground_truth, train_slices, val_slices, test_data_indexes, data_shape = process_data(\n",
    "        DATASET_FILE_PATH, DATASET_SHEET_TITLE, GRANULARITY, SMOOTHING, ATTEMPT_NAME, VAL_PERCENT, PAST_HISTORY, \n",
    "        FUTURE_TARGET, STEP_SIZE_SLIDING_WINDOW, BATCH_SIZE, EPOCHS, SHUFFLE_BUFFER_SIZE, MEAN)\n",
    "    model, training_history, training_time = run_lstm(data_shape, batch_train, batch_val, train_slices, \n",
    "                                                      val_slices, BATCH_SIZE, EPOCHS, FUTURE_TARGET) \n",
    "    evaluate_results(model, training_history, test_ground_truth, batch_test, test_data_indexes, training_time)"
   ]
  },
  {
   "cell_type": "code",
   "execution_count": 2,
   "metadata": {
    "pycharm": {
     "is_executing": false
    }
   },
   "outputs": [],
   "source": [
    "# Load algorithm\n",
    "%run ./data_management_component.ipynb"
   ]
  },
  {
   "cell_type": "code",
   "execution_count": 3,
   "metadata": {
    "pycharm": {
     "is_executing": false
    }
   },
   "outputs": [],
   "source": [
    "%run ./cnn_baseline.ipynb"
   ]
  },
  {
   "cell_type": "code",
   "execution_count": 4,
   "metadata": {
    "pycharm": {
     "is_executing": false
    }
   },
   "outputs": [],
   "source": [
    "%run ./evaluation_component.ipynb"
   ]
  },
  {
   "cell_type": "code",
   "execution_count": 11,
   "metadata": {
    "pycharm": {
     "is_executing": false
    }
   },
   "outputs": [],
   "source": [
    "ATTEMPT_NAME=\"CNN_BASELINE\"\n",
    "DATASET_FILE_PATH= [\"Datasets\\\\uniformdata.xlsx\", \"Datasets\\\\uniformdata.xlsx\", \"Datasets\\\\uniformdata.xlsx\", \"Datasets\\\\uniformdata.xlsx\", \"Datasets\\\\uniformdata.xlsx\"]\n",
    "DATASET_SHEET_TITLE= [\"data_uniforma\", \"data_uniformb\", \"data_uniformc\", \"data_uniformd\", \"data_uniforme\"]\n",
    "GRANULARITY=10\n",
    "STEP_SIZE_SLIDING_WINDOW=5\n",
    "PAST_HISTORY=200\n",
    "FUTURE_TARGET=1\n",
    "VAL_PERCENT=0.1\n",
    "EPOCHS=5\n",
    "BATCH_SIZE=10\n",
    "SMOOTHING=50\n",
    "SHUFFLE_BUFFER_SIZE=100\n",
    "MEAN=False"
   ]
  },
  {
   "cell_type": "code",
   "execution_count": null,
   "metadata": {
    "pycharm": {
     "is_executing": false
    }
   },
   "outputs": [],
   "source": []
  },
  {
   "cell_type": "code",
   "execution_count": null,
   "metadata": {
    "pycharm": {
     "is_executing": false
    }
   },
   "outputs": [],
   "source": []
  },
  {
   "cell_type": "code",
   "execution_count": 12,
   "metadata": {
    "pycharm": {
     "is_executing": false
    }
   },
   "outputs": [
    {
     "name": "stdout",
     "output_type": "stream",
     "text": [
      "Working on dataset: Datasets\\uniformdata.xlsx data_uniforma TRAIN SET number 0\n",
      "(4250, 40, 8) (294, 40, 8)\n",
      "4250 0\n",
      "Working on dataset: Datasets\\uniformdata.xlsx data_uniformb TRAIN SET number 1\n",
      "(3287, 40, 8) (187, 40, 8)\n",
      "7537 294\n",
      "Working on dataset: Datasets\\uniformdata.xlsx data_uniformc TRAIN SET number 2\n",
      "(3416, 40, 8) (201, 40, 8)\n",
      "10953 481\n",
      "Working on dataset: Datasets\\uniformdata.xlsx data_uniformd TRAIN SET number 3\n",
      "(3745, 40, 8) (238, 40, 8)\n",
      "14698 682\n",
      "Working on dataset: Datasets\\uniformdata.xlsx data_uniforme TEST SET\n"
     ]
    }
   ],
   "source": [
    "batch_train, batch_val, batch_test, test_ground_truth, train_slices, val_slices, test_data_indexes, data_shape = process_data(\n",
    "        DATASET_FILE_PATH, DATASET_SHEET_TITLE, GRANULARITY, SMOOTHING, ATTEMPT_NAME, VAL_PERCENT, PAST_HISTORY, \n",
    "        FUTURE_TARGET, STEP_SIZE_SLIDING_WINDOW, BATCH_SIZE, EPOCHS, SHUFFLE_BUFFER_SIZE, MEAN)"
   ]
  },
  {
   "cell_type": "code",
   "execution_count": 28,
   "metadata": {},
   "outputs": [],
   "source": [
    "%run ./cnn_baseline.ipynb"
   ]
  },
  {
   "cell_type": "code",
   "execution_count": 29,
   "metadata": {
    "pycharm": {
     "is_executing": false
    }
   },
   "outputs": [
    {
     "name": "stdout",
     "output_type": "stream",
     "text": [
      "Model: \"sequential_6\"\n",
      "_________________________________________________________________\n",
      "Layer (type)                 Output Shape              Param #   \n",
      "=================================================================\n",
      "conv1d_6 (Conv1D)            (None, 40, 50)            4050      \n",
      "_________________________________________________________________\n",
      "flatten (Flatten)            (None, 2000)              0         \n",
      "_________________________________________________________________\n",
      "dense_4 (Dense)              (None, 1)                 2001      \n",
      "=================================================================\n",
      "Total params: 6,051\n",
      "Trainable params: 6,051\n",
      "Non-trainable params: 0\n",
      "_________________________________________________________________\n",
      "Train for 1469 steps, validate for 92 steps\n",
      "Epoch 1/5\n",
      "1469/1469 [==============================] - 9s 6ms/step - loss: 0.1038 - mae: 0.1038 - val_loss: 0.1600 - val_mae: 0.1600\n",
      "Epoch 2/5\n",
      "1469/1469 [==============================] - 8s 6ms/step - loss: 0.0665 - mae: 0.0665 - val_loss: 0.1638 - val_mae: 0.1638\n",
      "Epoch 3/5\n",
      "1469/1469 [==============================] - 8s 5ms/step - loss: 0.0564 - mae: 0.0564 - val_loss: 0.1377 - val_mae: 0.1377\n",
      "Epoch 4/5\n",
      "1469/1469 [==============================] - 8s 5ms/step - loss: 0.0500 - mae: 0.0500 - val_loss: 0.1358 - val_mae: 0.1358\n",
      "Epoch 5/5\n",
      "1469/1469 [==============================] - 8s 5ms/step - loss: 0.0470 - mae: 0.0470 - val_loss: 0.1520 - val_mae: 0.1520\n"
     ]
    }
   ],
   "source": [
    "model, training_history, training_time = run_cnn(data_shape, batch_train, batch_val, train_slices, \n",
    "                                                  val_slices, BATCH_SIZE, EPOCHS, FUTURE_TARGET) "
   ]
  },
  {
   "cell_type": "code",
   "execution_count": 31,
   "metadata": {
    "pycharm": {
     "is_executing": false
    }
   },
   "outputs": [
    {
     "data": {
      "image/png": "[encoded data removed]",
      "text/plain": [
       "<Figure size 432x288 with 1 Axes>"
      ]
     },
     "metadata": {
      "needs_background": "light"
     },
     "output_type": "display_data"
    },
    {
     "name": "stdout",
     "output_type": "stream",
     "text": [
      "3992/3992 [==============================] - 10s 3ms/step - loss: 0.1297 - mae: 0.1297\n",
      "Total training time: 40.275638099999924 seconds\n",
      "Execution time: time 275.99048779999976, observations 3992, time per observation 0.06913589373747489 seconds\n"
     ]
    },
    {
     "data": {
      "image/png": "[encoded data removed]",
      "text/plain": [
       "<Figure size 432x288 with 1 Axes>"
      ]
     },
     "metadata": {
      "needs_background": "light"
     },
     "output_type": "display_data"
    }
   ],
   "source": [
    "%run ./evaluation_component.ipynb\n",
    "evaluate_results(model, training_history, test_ground_truth, batch_test, test_data_indexes, training_time)"
   ]
  },
  {
   "cell_type": "code",
   "execution_count": 13,
   "metadata": {
    "pycharm": {
     "is_executing": false
    }
   },
   "outputs": [],
   "source": []
  },
  {
   "cell_type": "code",
   "execution_count": 13,
   "metadata": {
    "pycharm": {
     "is_executing": false
    }
   },
   "outputs": [],
   "source": []
  },
  {
   "cell_type": "code",
   "execution_count": 13,
   "metadata": {
    "pycharm": {
     "is_executing": false
    }
   },
   "outputs": [],
   "source": []
  },
  {
   "cell_type": "code",
   "execution_count": 13,
   "metadata": {
    "pycharm": {
     "is_executing": false
    }
   },
   "outputs": [],
   "source": []
  },
  {
   "cell_type": "code",
   "execution_count": 13,
   "metadata": {
    "pycharm": {
     "is_executing": false
    }
   },
   "outputs": [],
   "source": []
  },
  {
   "cell_type": "code",
   "execution_count": 15,
   "metadata": {
    "pycharm": {
     "is_executing": false
    }
   },
   "outputs": [],
   "source": [
    "ATTEMPT_NAME=\"LSTM_BASELINE\"\n",
    "DATASET_FILE_PATH= [\"Datasets\\\\uniformdata.xlsx\", \"Datasets\\\\uniformdata.xlsx\", \"Datasets\\\\uniformdata.xlsx\", \"Datasets\\\\uniformdata.xlsx\", \"Datasets\\\\uniformdata.xlsx\"]\n",
    "DATASET_SHEET_TITLE= [\"data_uniforma\", \"data_uniformb\", \"data_uniformc\", \"data_uniformd\", \"data_uniforme\"]\n",
    "GRANULARITY=10\n",
    "STEP_SIZE_SLIDING_WINDOW=5\n",
    "PAST_HISTORY=20\n",
    "FUTURE_TARGET=1\n",
    "VAL_PERCENT=0.1\n",
    "EPOCHS=5\n",
    "BATCH_SIZE=10\n",
    "SMOOTHING=1\n",
    "SHUFFLE_BUFFER_SIZE=0\n",
    "MEAN=False\n",
    "\n",
    "run_all(DATASET_FILE_PATH, DATASET_SHEET_TITLE, GRANULARITY, STEP_SIZE_SLIDING_WINDOW, PAST_HISTORY, \n",
    "        FUTURE_TARGET, VAL_PERCENT, EPOCHS, BATCH_SIZE, SMOOTHING, ATTEMPT_NAME, SHUFFLE_BUFFER_SIZE, MEAN)"
   ]
  },
  {
   "cell_type": "code",
   "execution_count": null,
   "metadata": {
    "pycharm": {
     "is_executing": false
    }
   },
   "outputs": [],
   "source": [
    "ATTEMPT_NAME=\"LSTM_SHUFFLE\"\n",
    "DATASET_FILE_PATH= [\"Datasets\\\\uniformdata.xlsx\", \"Datasets\\\\uniformdata.xlsx\", \"Datasets\\\\uniformdata.xlsx\", \"Datasets\\\\uniformdata.xlsx\", \"Datasets\\\\uniformdata.xlsx\"]\n",
    "DATASET_SHEET_TITLE= [\"data_uniforma\", \"data_uniformb\", \"data_uniformc\", \"data_uniformd\", \"data_uniforme\"]\n",
    "GRANULARITY=10\n",
    "STEP_SIZE_SLIDING_WINDOW=5\n",
    "PAST_HISTORY=20\n",
    "FUTURE_TARGET=1\n",
    "VAL_PERCENT=0.1\n",
    "EPOCHS=5\n",
    "BATCH_SIZE=10\n",
    "SMOOTHING=1\n",
    "SHUFFLE_BUFFER_SIZE=100\n",
    "MEAN=False\n",
    "\n",
    "run_all(DATASET_FILE_PATH, DATASET_SHEET_TITLE, GRANULARITY, STEP_SIZE_SLIDING_WINDOW, PAST_HISTORY, \n",
    "            FUTURE_TARGET, VAL_PERCENT, EPOCHS, BATCH_SIZE, SMOOTHING, ATTEMPT_NAME, SHUFFLE_BUFFER_SIZE, MEAN)"
   ]
  },
  {
   "cell_type": "code",
   "execution_count": null,
   "metadata": {
    "pycharm": {
     "is_executing": false
    }
   },
   "outputs": [],
   "source": [
    "ATTEMPT_NAME=\"LSTM_HIGH_EPOCH\"\n",
    "DATASET_FILE_PATH= [\"Datasets\\\\uniformdata.xlsx\", \"Datasets\\\\uniformdata.xlsx\", \"Datasets\\\\uniformdata.xlsx\", \"Datasets\\\\uniformdata.xlsx\", \"Datasets\\\\uniformdata.xlsx\"]\n",
    "DATASET_SHEET_TITLE= [\"data_uniforma\", \"data_uniformb\", \"data_uniformc\", \"data_uniformd\", \"data_uniforme\"]\n",
    "GRANULARITY=10\n",
    "STEP_SIZE_SLIDING_WINDOW=5\n",
    "PAST_HISTORY=20\n",
    "FUTURE_TARGET=1\n",
    "VAL_PERCENT=0.1\n",
    "EPOCHS=20\n",
    "BATCH_SIZE=10\n",
    "SMOOTHING=1\n",
    "SHUFFLE_BUFFER_SIZE=0\n",
    "MEAN=False\n",
    "\n",
    "run_all(DATASET_FILE_PATH, DATASET_SHEET_TITLE, GRANULARITY, STEP_SIZE_SLIDING_WINDOW, PAST_HISTORY, \n",
    "            FUTURE_TARGET, VAL_PERCENT, EPOCHS, BATCH_SIZE, SMOOTHING, ATTEMPT_NAME, SHUFFLE_BUFFER_SIZE, MEAN)"
   ]
  },
  {
   "cell_type": "code",
   "execution_count": null,
   "metadata": {
    "pycharm": {
     "is_executing": false
    }
   },
   "outputs": [],
   "source": [
    "ATTEMPT_NAME=\"LSTM_LARGE_PAST_HISTORY\"\n",
    "DATASET_FILE_PATH= [\"Datasets\\\\uniformdata.xlsx\", \"Datasets\\\\uniformdata.xlsx\", \"Datasets\\\\uniformdata.xlsx\", \"Datasets\\\\uniformdata.xlsx\", \"Datasets\\\\uniformdata.xlsx\"]\n",
    "DATASET_SHEET_TITLE= [\"data_uniforma\", \"data_uniformb\", \"data_uniformc\", \"data_uniformd\", \"data_uniforme\"]\n",
    "GRANULARITY=10\n",
    "STEP_SIZE_SLIDING_WINDOW=5\n",
    "PAST_HISTORY=100\n",
    "FUTURE_TARGET=1\n",
    "VAL_PERCENT=0.1\n",
    "EPOCHS=5\n",
    "BATCH_SIZE=10\n",
    "SMOOTHING=1\n",
    "SHUFFLE_BUFFER_SIZE=0\n",
    "MEAN=False\n",
    "\n",
    "run_all(DATASET_FILE_PATH, DATASET_SHEET_TITLE, GRANULARITY, STEP_SIZE_SLIDING_WINDOW, PAST_HISTORY, \n",
    "            FUTURE_TARGET, VAL_PERCENT, EPOCHS, BATCH_SIZE, SMOOTHING, ATTEMPT_NAME, SHUFFLE_BUFFER_SIZE, MEAN)"
   ]
  },
  {
   "cell_type": "code",
   "execution_count": null,
   "metadata": {
    "pycharm": {
     "is_executing": false
    }
   },
   "outputs": [],
   "source": [
    "ATTEMPT_NAME=\"LSTM_SMOOTHING\"\n",
    "DATASET_FILE_PATH= [\"Datasets\\\\uniformdata.xlsx\", \"Datasets\\\\uniformdata.xlsx\", \"Datasets\\\\uniformdata.xlsx\", \"Datasets\\\\uniformdata.xlsx\", \"Datasets\\\\uniformdata.xlsx\"]\n",
    "DATASET_SHEET_TITLE= [\"data_uniforma\", \"data_uniformb\", \"data_uniformc\", \"data_uniformd\", \"data_uniforme\"]\n",
    "GRANULARITY=10\n",
    "STEP_SIZE_SLIDING_WINDOW=5\n",
    "PAST_HISTORY=20\n",
    "FUTURE_TARGET=1\n",
    "VAL_PERCENT=0.1\n",
    "EPOCHS=5\n",
    "BATCH_SIZE=10\n",
    "SMOOTHING=50\n",
    "SHUFFLE_BUFFER_SIZE=0\n",
    "MEAN=False\n",
    "\n",
    "run_all(DATASET_FILE_PATH, DATASET_SHEET_TITLE, GRANULARITY, STEP_SIZE_SLIDING_WINDOW, PAST_HISTORY, \n",
    "            FUTURE_TARGET, VAL_PERCENT, EPOCHS, BATCH_SIZE, SMOOTHING, ATTEMPT_NAME, SHUFFLE_BUFFER_SIZE, MEAN)"
   ]
  },
  {
   "cell_type": "code",
   "execution_count": null,
   "metadata": {
    "pycharm": {
     "is_executing": false
    }
   },
   "outputs": [],
   "source": [
    "ATTEMPT_NAME=\"LSTM_MEAN\"\n",
    "DATASET_FILE_PATH= [\"Datasets\\\\uniformdata.xlsx\", \"Datasets\\\\uniformdata.xlsx\", \"Datasets\\\\uniformdata.xlsx\", \"Datasets\\\\uniformdata.xlsx\", \"Datasets\\\\uniformdata.xlsx\"]\n",
    "DATASET_SHEET_TITLE= [\"data_uniforma\", \"data_uniformb\", \"data_uniformc\", \"data_uniformd\", \"data_uniforme\"]\n",
    "GRANULARITY=10\n",
    "STEP_SIZE_SLIDING_WINDOW=5\n",
    "PAST_HISTORY=20\n",
    "FUTURE_TARGET=1\n",
    "VAL_PERCENT=0.1\n",
    "EPOCHS=5\n",
    "BATCH_SIZE=10\n",
    "SMOOTHING=1\n",
    "SHUFFLE_BUFFER_SIZE=0\n",
    "MEAN=True\n",
    "\n",
    "run_all(DATASET_FILE_PATH, DATASET_SHEET_TITLE, GRANULARITY, STEP_SIZE_SLIDING_WINDOW, PAST_HISTORY, \n",
    "            FUTURE_TARGET, VAL_PERCENT, EPOCHS, BATCH_SIZE, SMOOTHING, ATTEMPT_NAME, SHUFFLE_BUFFER_SIZE, MEAN)"
   ]
  }
 ],
 "metadata": {
  "kernelspec": {
   "display_name": "Python 3",
   "language": "python",
   "name": "python3"
  },
  "language_info": {
   "codemirror_mode": {
    "name": "ipython",
    "version": 3
   },
   "file_extension": ".py",
   "mimetype": "text/x-python",
   "name": "python",
   "nbconvert_exporter": "python",
   "pygments_lexer": "ipython3",
   "version": "3.7.4"
  },
  "pycharm": {
   "stem_cell": {
    "cell_type": "raw",
    "metadata": {
     "collapsed": false
    },
    "source": []
   }
  }
 },
 "nbformat": 4,
 "nbformat_minor": 2
}
