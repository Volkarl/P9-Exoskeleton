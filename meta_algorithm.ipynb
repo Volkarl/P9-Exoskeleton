{
 "cells": [
  {
   "cell_type": "code",
   "execution_count": 6,
   "metadata": {},
   "outputs": [
    {
     "ename": "SyntaxError",
     "evalue": "invalid syntax (<ipython-input-6-dbf9e0b8649a>, line 18)",
     "output_type": "error",
     "traceback": [
      "\u001b[1;36m  File \u001b[1;32m\"<ipython-input-6-dbf9e0b8649a>\"\u001b[1;36m, line \u001b[1;32m18\u001b[0m\n\u001b[1;33m    firsttry = {\u001b[0m\n\u001b[1;37m             ^\u001b[0m\n\u001b[1;31mSyntaxError\u001b[0m\u001b[1;31m:\u001b[0m invalid syntax\n"
     ]
    }
   ],
   "source": [
    "# Parameters \n",
    "# DATASET_FILE_PATH: \"BigData.xlsx\",\n",
    "# DATASET_SHEET_TITLE: \"data_test\",\n",
    "# GRANULARITY: 10, # Take first item, skip next x, take next, skip x, take next, ...\n",
    "# STEP_SIZE_SLIDING_WINDOW: 5,\n",
    "# PAST_HISTORY: 20,\n",
    "# FUTURE_TARGET: 1, \n",
    "# Looks at observations that are PASTHISTORY timesteps prior (reading only every STEP_SIZE_SLIDING_WINDOW entry),\n",
    "# then predicts the result at FUTURETARGET timesteps in the future\n",
    "# VAL_PERCENT: 0.1,\n",
    "# TEST_PERCENT: 0.1,\n",
    "# EPOCHS: 5,\n",
    "# BATCH_SPLITS_TRAIN: 1,\n",
    "# BATCH_SPLITS_VAL: 1,\n",
    "# SMOOTHING: 0\n",
    "\n",
    "# runAll(DATASET_FILE_PATH, DATASET_SHEET_TITLE, GRANULARITY, STEP_SIZE_SLIDING_WINDOW, PAST_HISTORY, \n",
    "#        FUTURE_TARGET, VAL_PERCENT, TEST_PERCENT, EPOCHS, BATCH_SPLITS_TRAIN, BATCH_SPLITS_VAL, SMOOTHING)\n",
    "\n",
    "BASELINE = runAll(DATASET_FILE_PATH=\"BigData.xlsx\", DATASET_SHEET_TITLE=\"data_test\", GRANULARITY=10, \n",
    "                  STEP_SIZE_SLIDING_WINDOW=5, PAST_HISTORY=20, FUTURE_TARGET=1, \n",
    "                  VAL_PERCENT=0.1, TEST_PERCENT=0.1, EPOCHS=5, \n",
    "                  BATCH_SPLITS_TRAIN=1, BATCH_SPLITS_VAL=1, SMOOTHING=200)"
   ]
  },
  {
   "cell_type": "code",
   "execution_count": 2,
   "metadata": {},
   "outputs": [
    {
     "name": "stderr",
     "output_type": "stream",
     "text": [
      "ERROR:root:File `'./nn_baseline.ipynb.py'` not found.\n"
     ]
    },
    {
     "ename": "NameError",
     "evalue": "name 'read_xlsx' is not defined",
     "output_type": "error",
     "traceback": [
      "\u001b[1;31m---------------------------------------------------------------------------\u001b[0m",
      "\u001b[1;31mNameError\u001b[0m                                 Traceback (most recent call last)",
      "\u001b[1;32m<ipython-input-2-1ed69c835924>\u001b[0m in \u001b[0;36m<module>\u001b[1;34m\u001b[0m\n\u001b[0;32m      2\u001b[0m \u001b[1;31m# TODO?: In the future I might want to split this up further into more files\u001b[0m\u001b[1;33m\u001b[0m\u001b[1;33m\u001b[0m\u001b[1;33m\u001b[0m\u001b[0m\n\u001b[0;32m      3\u001b[0m \u001b[0mget_ipython\u001b[0m\u001b[1;33m(\u001b[0m\u001b[1;33m)\u001b[0m\u001b[1;33m.\u001b[0m\u001b[0mrun_line_magic\u001b[0m\u001b[1;33m(\u001b[0m\u001b[1;34m'run'\u001b[0m\u001b[1;33m,\u001b[0m \u001b[1;34m'./nn_baseline.ipynb'\u001b[0m\u001b[1;33m)\u001b[0m\u001b[1;33m\u001b[0m\u001b[1;33m\u001b[0m\u001b[0m\n\u001b[1;32m----> 4\u001b[1;33m \u001b[0mdata\u001b[0m \u001b[1;33m=\u001b[0m \u001b[0mread_xlsx\u001b[0m\u001b[1;33m(\u001b[0m\u001b[0mdataset_names\u001b[0m\u001b[1;33m,\u001b[0m \u001b[0msheet_names\u001b[0m\u001b[1;33m,\u001b[0m \u001b[0mcross_val\u001b[0m \u001b[1;33m=\u001b[0m \u001b[1;32mFalse\u001b[0m\u001b[1;33m)\u001b[0m\u001b[1;33m\u001b[0m\u001b[1;33m\u001b[0m\u001b[0m\n\u001b[0m",
      "\u001b[1;31mNameError\u001b[0m: name 'read_xlsx' is not defined"
     ]
    }
   ],
   "source": [
    "# Load algorithm\n",
    "# TODO?: In the future I might want to split this up further into more files\n",
    "%run ./nn_baseline.ipynb"
   ]
  },
  {
   "cell_type": "code",
   "execution_count": 3,
   "metadata": {},
   "outputs": [
    {
     "ename": "NameError",
     "evalue": "name 'read_xlsx' is not defined",
     "output_type": "error",
     "traceback": [
      "\u001b[1;31m---------------------------------------------------------------------------\u001b[0m",
      "\u001b[1;31mNameError\u001b[0m                                 Traceback (most recent call last)",
      "\u001b[1;32m<ipython-input-3-55db63c6633d>\u001b[0m in \u001b[0;36m<module>\u001b[1;34m\u001b[0m\n\u001b[1;32m----> 1\u001b[1;33m \u001b[0mdata\u001b[0m \u001b[1;33m=\u001b[0m \u001b[0mread_xlsx\u001b[0m\u001b[1;33m(\u001b[0m\u001b[0mdataset_names\u001b[0m\u001b[1;33m,\u001b[0m \u001b[0msheet_names\u001b[0m\u001b[1;33m,\u001b[0m \u001b[0mcross_val\u001b[0m \u001b[1;33m=\u001b[0m \u001b[1;32mFalse\u001b[0m\u001b[1;33m)\u001b[0m\u001b[1;33m\u001b[0m\u001b[1;33m\u001b[0m\u001b[0m\n\u001b[0m",
      "\u001b[1;31mNameError\u001b[0m: name 'read_xlsx' is not defined"
     ]
    }
   ],
   "source": [
    "data = read_xlsx(dataset_names, sheet_names, cross_val = False)"
   ]
  },
  {
   "cell_type": "code",
   "execution_count": null,
   "metadata": {},
   "outputs": [],
   "source": []
  },
  {
   "cell_type": "code",
   "execution_count": null,
   "metadata": {},
   "outputs": [],
   "source": []
  },
  {
   "cell_type": "code",
   "execution_count": null,
   "metadata": {},
   "outputs": [],
   "source": []
  },
  {
   "cell_type": "code",
   "execution_count": null,
   "metadata": {},
   "outputs": [],
   "source": []
  }
 ],
 "metadata": {
  "kernelspec": {
   "display_name": "Python 3",
   "language": "python",
   "name": "python3"
  },
  "language_info": {
   "codemirror_mode": {
    "name": "ipython",
    "version": 3
   },
   "file_extension": ".py",
   "mimetype": "text/x-python",
   "name": "python",
   "nbconvert_exporter": "python",
   "pygments_lexer": "ipython3",
   "version": "3.7.4"
  }
 },
 "nbformat": 4,
 "nbformat_minor": 2
}
