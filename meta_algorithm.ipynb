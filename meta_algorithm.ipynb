{
 "cells": [
  {
   "cell_type": "code",
   "execution_count": 4,
   "metadata": {
    "pycharm": {
     "is_executing": false
    }
   },
   "outputs": [],
   "source": [
    "# Imports\n",
    "from keras.layers import Input, LSTM, Dense, Conv1D, concatenate, Flatten, Dropout\n",
    "from keras.models import Model\n",
    "import tensorflow as tf\n",
    "import matplotlib as mpl\n",
    "import matplotlib.pyplot as plt\n",
    "import numpy as np\n",
    "import pandas as pd\n",
    "from timeit import default_timer as timer"
   ]
  },
  {
   "cell_type": "code",
   "execution_count": 5,
   "metadata": {
    "pycharm": {
     "is_executing": false
    }
   },
   "outputs": [],
   "source": [
    "# Parameters \n",
    "# ATTEMPT_NAME=\"LSTM_BASELINE\"\n",
    "# DATASET_FILE_PATH= [\"Datasets\\\\uniformdata.xlsx\", \"Datasets\\\\uniformdata.xlsx\", \"Datasets\\\\uniformdata.xlsx\", \"Datasets\\\\uniformdata.xlsx\", \"Datasets\\\\uniformdata.xlsx\"]\n",
    "# DATASET_SHEET_TITLE= [\"data_uniforma\", \"data_uniformb\", \"data_uniformc\", \"data_uniformd\", \"data_uniforme\"]\n",
    "# GRANULARITY=10\n",
    "# STEP_SIZE_SLIDING_WINDOW=5\n",
    "# PAST_HISTORY=20\n",
    "# FUTURE_TARGET=1\n",
    "# VAL_PERCENT=0.1\n",
    "# EPOCHS=5\n",
    "# BATCH_SIZE=10\n",
    "# SMOOTHING=50\n",
    "# SHUFFLE_BUFFER_SIZE=100\n",
    "# MEAN=False"
   ]
  },
  {
   "cell_type": "code",
   "execution_count": 6,
   "metadata": {
    "pycharm": {
     "is_executing": false
    }
   },
   "outputs": [],
   "source": [
    "def run_all(DATASET_FILE_PATH, DATASET_SHEET_TITLE, GRANULARITY, STEP_SIZE_SLIDING_WINDOW, PAST_HISTORY, \n",
    "            FUTURE_TARGET, VAL_PERCENT, EPOCHS, BATCH_SIZE, SMOOTHING, ATTEMPT_NAME, SHUFFLE_BUFFER_SIZE, MEAN): \n",
    "    batch_train, batch_val, batch_test, test_ground_truth, train_slices, val_slices, test_data_indexes, data_shape = process_data(\n",
    "        DATASET_FILE_PATH, DATASET_SHEET_TITLE, GRANULARITY, SMOOTHING, ATTEMPT_NAME, VAL_PERCENT, PAST_HISTORY, \n",
    "        FUTURE_TARGET, STEP_SIZE_SLIDING_WINDOW, BATCH_SIZE, EPOCHS, SHUFFLE_BUFFER_SIZE, MEAN)\n",
    "    model, training_history, training_time = run_lstm(data_shape, batch_train, batch_val, train_slices, \n",
    "                                                      val_slices, BATCH_SIZE, EPOCHS, FUTURE_TARGET) \n",
    "    evaluate_results(model, training_history, test_ground_truth, batch_test, test_data_indexes, training_time)"
   ]
  },
  {
   "cell_type": "code",
   "execution_count": 7,
   "metadata": {
    "pycharm": {
     "is_executing": false
    }
   },
   "outputs": [],
   "source": [
    "# Load algorithm\n",
    "%run ./data_management_component.ipynb"
   ]
  },
  {
   "cell_type": "code",
   "execution_count": 16,
   "metadata": {
    "pycharm": {
     "is_executing": false
    }
   },
   "outputs": [],
   "source": [
    "%run ./mix_baseline.ipynb"
   ]
  },
  {
   "cell_type": "code",
   "execution_count": 9,
   "metadata": {
    "pycharm": {
     "is_executing": false
    }
   },
   "outputs": [],
   "source": [
    "%run ./evaluation_component.ipynb"
   ]
  },
  {
   "cell_type": "code",
   "execution_count": 10,
   "metadata": {
    "pycharm": {
     "is_executing": false
    }
   },
   "outputs": [],
   "source": [
    "ATTEMPT_NAME=\"LSTM_BASELINE\"\n",
    "DATASET_FILE_PATH= [\"Datasets\\\\uniformdata.xlsx\", \"Datasets\\\\uniformdata.xlsx\", \"Datasets\\\\uniformdata.xlsx\", \"Datasets\\\\uniformdata.xlsx\", \"Datasets\\\\uniformdata.xlsx\"]\n",
    "DATASET_SHEET_TITLE= [\"data_uniforma\", \"data_uniformb\", \"data_uniformc\", \"data_uniformd\", \"data_uniforme\"]\n",
    "GRANULARITY=10\n",
    "STEP_SIZE_SLIDING_WINDOW=5\n",
    "PAST_HISTORY=20\n",
    "FUTURE_TARGET=1\n",
    "VAL_PERCENT=0.1\n",
    "EPOCHS=5\n",
    "BATCH_SIZE=10\n",
    "SMOOTHING=50\n",
    "SHUFFLE_BUFFER_SIZE=100\n",
    "MEAN=False"
   ]
  },
  {
   "cell_type": "code",
   "execution_count": 10,
   "metadata": {
    "pycharm": {
     "is_executing": false
    }
   },
   "outputs": [],
   "source": []
  },
  {
   "cell_type": "code",
   "execution_count": 10,
   "metadata": {
    "pycharm": {
     "is_executing": false
    }
   },
   "outputs": [],
   "source": []
  },
  {
   "cell_type": "code",
   "execution_count": 11,
   "metadata": {
    "pycharm": {
     "is_executing": false
    }
   },
   "outputs": [],
   "source": [
    "batch_train, batch_val, batch_test, test_ground_truth, train_slices, val_slices, test_data_indexes, data_shape = process_data(\n",
    "        DATASET_FILE_PATH, DATASET_SHEET_TITLE, GRANULARITY, SMOOTHING, ATTEMPT_NAME, VAL_PERCENT, PAST_HISTORY, \n",
    "        FUTURE_TARGET, STEP_SIZE_SLIDING_WINDOW, BATCH_SIZE, EPOCHS, SHUFFLE_BUFFER_SIZE, MEAN)"
   ]
  },
  {
   "cell_type": "code",
   "execution_count": 18,
   "metadata": {
    "pycharm": {
     "is_executing": false
    }
   },
   "outputs": [],
   "source": [
    "model, training_history, training_time = run_lstm(data_shape, batch_train, batch_val, train_slices, \n",
    "                                                  val_slices, BATCH_SIZE, EPOCHS, FUTURE_TARGET) "
   ]
  },
  {
   "cell_type": "code",
   "execution_count": 13,
   "metadata": {
    "pycharm": {
     "is_executing": false
    }
   },
   "outputs": [],
   "source": [
    "evaluate_results(model, training_history, test_ground_truth, batch_test, test_data_indexes, training_time)"
   ]
  },
  {
   "cell_type": "code",
   "execution_count": 13,
   "metadata": {
    "pycharm": {
     "is_executing": false
    }
   },
   "outputs": [],
   "source": []
  },
  {
   "cell_type": "code",
   "execution_count": 13,
   "metadata": {
    "pycharm": {
     "is_executing": false
    }
   },
   "outputs": [],
   "source": []
  },
  {
   "cell_type": "code",
   "execution_count": 13,
   "metadata": {
    "pycharm": {
     "is_executing": false
    }
   },
   "outputs": [],
   "source": []
  },
  {
   "cell_type": "code",
   "execution_count": 13,
   "metadata": {
    "pycharm": {
     "is_executing": false
    }
   },
   "outputs": [],
   "source": []
  },
  {
   "cell_type": "code",
   "execution_count": 13,
   "metadata": {
    "pycharm": {
     "is_executing": false
    }
   },
   "outputs": [],
   "source": []
  },
  {
   "cell_type": "code",
   "execution_count": 15,
   "metadata": {
    "pycharm": {
     "is_executing": false
    }
   },
   "outputs": [],
   "source": [
    "ATTEMPT_NAME=\"LSTM_BASELINE\"\n",
    "DATASET_FILE_PATH= [\"Datasets\\\\uniformdata.xlsx\", \"Datasets\\\\uniformdata.xlsx\", \"Datasets\\\\uniformdata.xlsx\", \"Datasets\\\\uniformdata.xlsx\", \"Datasets\\\\uniformdata.xlsx\"]\n",
    "DATASET_SHEET_TITLE= [\"data_uniforma\", \"data_uniformb\", \"data_uniformc\", \"data_uniformd\", \"data_uniforme\"]\n",
    "GRANULARITY=10\n",
    "STEP_SIZE_SLIDING_WINDOW=5\n",
    "PAST_HISTORY=20\n",
    "FUTURE_TARGET=1\n",
    "VAL_PERCENT=0.1\n",
    "EPOCHS=5\n",
    "BATCH_SIZE=10\n",
    "SMOOTHING=1\n",
    "SHUFFLE_BUFFER_SIZE=0\n",
    "MEAN=False\n",
    "\n",
    "run_all(DATASET_FILE_PATH, DATASET_SHEET_TITLE, GRANULARITY, STEP_SIZE_SLIDING_WINDOW, PAST_HISTORY, \n",
    "        FUTURE_TARGET, VAL_PERCENT, EPOCHS, BATCH_SIZE, SMOOTHING, ATTEMPT_NAME, SHUFFLE_BUFFER_SIZE, MEAN)"
   ]
  },
  {
   "cell_type": "code",
   "execution_count": null,
   "metadata": {
    "pycharm": {
     "is_executing": false
    }
   },
   "outputs": [],
   "source": [
    "ATTEMPT_NAME=\"LSTM_SHUFFLE\"\n",
    "DATASET_FILE_PATH= [\"Datasets\\\\uniformdata.xlsx\", \"Datasets\\\\uniformdata.xlsx\", \"Datasets\\\\uniformdata.xlsx\", \"Datasets\\\\uniformdata.xlsx\", \"Datasets\\\\uniformdata.xlsx\"]\n",
    "DATASET_SHEET_TITLE= [\"data_uniforma\", \"data_uniformb\", \"data_uniformc\", \"data_uniformd\", \"data_uniforme\"]\n",
    "GRANULARITY=10\n",
    "STEP_SIZE_SLIDING_WINDOW=5\n",
    "PAST_HISTORY=20\n",
    "FUTURE_TARGET=1\n",
    "VAL_PERCENT=0.1\n",
    "EPOCHS=5\n",
    "BATCH_SIZE=10\n",
    "SMOOTHING=1\n",
    "SHUFFLE_BUFFER_SIZE=100\n",
    "MEAN=False\n",
    "\n",
    "run_all(DATASET_FILE_PATH, DATASET_SHEET_TITLE, GRANULARITY, STEP_SIZE_SLIDING_WINDOW, PAST_HISTORY, \n",
    "            FUTURE_TARGET, VAL_PERCENT, EPOCHS, BATCH_SIZE, SMOOTHING, ATTEMPT_NAME, SHUFFLE_BUFFER_SIZE, MEAN)"
   ]
  },
  {
   "cell_type": "code",
   "execution_count": null,
   "metadata": {
    "pycharm": {
     "is_executing": false
    }
   },
   "outputs": [],
   "source": [
    "ATTEMPT_NAME=\"LSTM_HIGH_EPOCH\"\n",
    "DATASET_FILE_PATH= [\"Datasets\\\\uniformdata.xlsx\", \"Datasets\\\\uniformdata.xlsx\", \"Datasets\\\\uniformdata.xlsx\", \"Datasets\\\\uniformdata.xlsx\", \"Datasets\\\\uniformdata.xlsx\"]\n",
    "DATASET_SHEET_TITLE= [\"data_uniforma\", \"data_uniformb\", \"data_uniformc\", \"data_uniformd\", \"data_uniforme\"]\n",
    "GRANULARITY=10\n",
    "STEP_SIZE_SLIDING_WINDOW=5\n",
    "PAST_HISTORY=20\n",
    "FUTURE_TARGET=1\n",
    "VAL_PERCENT=0.1\n",
    "EPOCHS=20\n",
    "BATCH_SIZE=10\n",
    "SMOOTHING=1\n",
    "SHUFFLE_BUFFER_SIZE=0\n",
    "MEAN=False\n",
    "\n",
    "run_all(DATASET_FILE_PATH, DATASET_SHEET_TITLE, GRANULARITY, STEP_SIZE_SLIDING_WINDOW, PAST_HISTORY, \n",
    "            FUTURE_TARGET, VAL_PERCENT, EPOCHS, BATCH_SIZE, SMOOTHING, ATTEMPT_NAME, SHUFFLE_BUFFER_SIZE, MEAN)"
   ]
  },
  {
   "cell_type": "code",
   "execution_count": null,
   "metadata": {
    "pycharm": {
     "is_executing": false
    }
   },
   "outputs": [],
   "source": [
    "ATTEMPT_NAME=\"LSTM_LARGE_PAST_HISTORY\"\n",
    "DATASET_FILE_PATH= [\"Datasets\\\\uniformdata.xlsx\", \"Datasets\\\\uniformdata.xlsx\", \"Datasets\\\\uniformdata.xlsx\", \"Datasets\\\\uniformdata.xlsx\", \"Datasets\\\\uniformdata.xlsx\"]\n",
    "DATASET_SHEET_TITLE= [\"data_uniforma\", \"data_uniformb\", \"data_uniformc\", \"data_uniformd\", \"data_uniforme\"]\n",
    "GRANULARITY=10\n",
    "STEP_SIZE_SLIDING_WINDOW=5\n",
    "PAST_HISTORY=100\n",
    "FUTURE_TARGET=1\n",
    "VAL_PERCENT=0.1\n",
    "EPOCHS=5\n",
    "BATCH_SIZE=10\n",
    "SMOOTHING=1\n",
    "SHUFFLE_BUFFER_SIZE=0\n",
    "MEAN=False\n",
    "\n",
    "run_all(DATASET_FILE_PATH, DATASET_SHEET_TITLE, GRANULARITY, STEP_SIZE_SLIDING_WINDOW, PAST_HISTORY, \n",
    "            FUTURE_TARGET, VAL_PERCENT, EPOCHS, BATCH_SIZE, SMOOTHING, ATTEMPT_NAME, SHUFFLE_BUFFER_SIZE, MEAN)"
   ]
  },
  {
   "cell_type": "code",
   "execution_count": null,
   "metadata": {
    "pycharm": {
     "is_executing": false
    }
   },
   "outputs": [],
   "source": [
    "ATTEMPT_NAME=\"LSTM_SMOOTHING\"\n",
    "DATASET_FILE_PATH= [\"Datasets\\\\uniformdata.xlsx\", \"Datasets\\\\uniformdata.xlsx\", \"Datasets\\\\uniformdata.xlsx\", \"Datasets\\\\uniformdata.xlsx\", \"Datasets\\\\uniformdata.xlsx\"]\n",
    "DATASET_SHEET_TITLE= [\"data_uniforma\", \"data_uniformb\", \"data_uniformc\", \"data_uniformd\", \"data_uniforme\"]\n",
    "GRANULARITY=10\n",
    "STEP_SIZE_SLIDING_WINDOW=5\n",
    "PAST_HISTORY=20\n",
    "FUTURE_TARGET=1\n",
    "VAL_PERCENT=0.1\n",
    "EPOCHS=5\n",
    "BATCH_SIZE=10\n",
    "SMOOTHING=50\n",
    "SHUFFLE_BUFFER_SIZE=0\n",
    "MEAN=False\n",
    "\n",
    "run_all(DATASET_FILE_PATH, DATASET_SHEET_TITLE, GRANULARITY, STEP_SIZE_SLIDING_WINDOW, PAST_HISTORY, \n",
    "            FUTURE_TARGET, VAL_PERCENT, EPOCHS, BATCH_SIZE, SMOOTHING, ATTEMPT_NAME, SHUFFLE_BUFFER_SIZE, MEAN)"
   ]
  },
  {
   "cell_type": "code",
   "execution_count": null,
   "metadata": {
    "pycharm": {
     "is_executing": false
    }
   },
   "outputs": [],
   "source": [
    "ATTEMPT_NAME=\"LSTM_MEAN\"\n",
    "DATASET_FILE_PATH= [\"Datasets\\\\uniformdata.xlsx\", \"Datasets\\\\uniformdata.xlsx\", \"Datasets\\\\uniformdata.xlsx\", \"Datasets\\\\uniformdata.xlsx\", \"Datasets\\\\uniformdata.xlsx\"]\n",
    "DATASET_SHEET_TITLE= [\"data_uniforma\", \"data_uniformb\", \"data_uniformc\", \"data_uniformd\", \"data_uniforme\"]\n",
    "GRANULARITY=10\n",
    "STEP_SIZE_SLIDING_WINDOW=5\n",
    "PAST_HISTORY=20\n",
    "FUTURE_TARGET=1\n",
    "VAL_PERCENT=0.1\n",
    "EPOCHS=5\n",
    "BATCH_SIZE=10\n",
    "SMOOTHING=1\n",
    "SHUFFLE_BUFFER_SIZE=0\n",
    "MEAN=True\n",
    "\n",
    "run_all(DATASET_FILE_PATH, DATASET_SHEET_TITLE, GRANULARITY, STEP_SIZE_SLIDING_WINDOW, PAST_HISTORY, \n",
    "            FUTURE_TARGET, VAL_PERCENT, EPOCHS, BATCH_SIZE, SMOOTHING, ATTEMPT_NAME, SHUFFLE_BUFFER_SIZE, MEAN)"
   ]
  }
 ],
 "metadata": {
  "kernelspec": {
   "display_name": "Python 3",
   "language": "python",
   "name": "python3"
  },
  "language_info": {
   "codemirror_mode": {
    "name": "ipython",
    "version": 3
   },
   "file_extension": ".py",
   "mimetype": "text/x-python",
   "name": "python",
   "nbconvert_exporter": "python",
   "pygments_lexer": "ipython3",
   "version": "3.7.4"
  },
  "pycharm": {
   "stem_cell": {
    "cell_type": "raw",
    "source": [],
    "metadata": {
     "collapsed": false
    }
   }
  }
 },
 "nbformat": 4,
 "nbformat_minor": 2
}