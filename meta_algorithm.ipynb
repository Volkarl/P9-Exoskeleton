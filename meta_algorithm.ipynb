{
 "cells": [
  {
   "cell_type": "code",
   "execution_count": 1,
   "metadata": {
    "pycharm": {
     "is_executing": false
    }
   },
   "outputs": [],
   "source": [
    "# Imports\n",
    "import tensorflow as tf\n",
    "import matplotlib as mpl\n",
    "import matplotlib.pyplot as plt\n",
    "import numpy as np\n",
    "import pandas as pd\n",
    "from timeit import default_timer as timer\n",
    "\n",
    "plt.rcParams[\"figure.figsize\"] = (20,10)"
   ]
  },
  {
   "cell_type": "code",
   "execution_count": 5,
   "metadata": {
    "pycharm": {
     "is_executing": false
    }
   },
   "outputs": [],
   "source": [
    "# Parameters \n",
    "# ATTEMPT_NAME=\"LSTM_BASELINE\"\n",
    "# DATASET_FILE_PATH= [\"Datasets\\\\uniformdata.xlsx\", \"Datasets\\\\uniformdata.xlsx\", \"Datasets\\\\uniformdata.xlsx\", \"Datasets\\\\uniformdata.xlsx\", \"Datasets\\\\uniformdata.xlsx\"]\n",
    "# DATASET_SHEET_TITLE= [\"data_uniforma\", \"data_uniformb\", \"data_uniformc\", \"data_uniformd\", \"data_uniforme\"]\n",
    "# GRANULARITY=10\n",
    "# STEP_SIZE_SLIDING_WINDOW=5\n",
    "# PAST_HISTORY=20\n",
    "# FUTURE_TARGET=1\n",
    "# VAL_PERCENT=0.1\n",
    "# EPOCHS=5\n",
    "# BATCH_SIZE=10\n",
    "# SMOOTHING=50\n",
    "# SHUFFLE_BUFFER_SIZE=100\n",
    "# MEAN=False"
   ]
  },
  {
   "cell_type": "code",
   "execution_count": 6,
   "metadata": {
    "pycharm": {
     "is_executing": false
    }
   },
   "outputs": [],
   "source": [
    "def run_all(DATASET_FILE_PATH, DATASET_SHEET_TITLE, GRANULARITY, STEP_SIZE_SLIDING_WINDOW, PAST_HISTORY, \n",
    "            FUTURE_TARGET, VAL_PERCENT, EPOCHS, BATCH_SIZE, SMOOTHING, ATTEMPT_NAME, SHUFFLE_BUFFER_SIZE, MEAN): \n",
    "    batch_train, batch_val, batch_test, test_ground_truth, train_slices, val_slices, test_data_indexes, data_shape = process_data(\n",
    "        DATASET_FILE_PATH, DATASET_SHEET_TITLE, GRANULARITY, SMOOTHING, ATTEMPT_NAME, VAL_PERCENT, PAST_HISTORY, \n",
    "        FUTURE_TARGET, STEP_SIZE_SLIDING_WINDOW, BATCH_SIZE, EPOCHS, SHUFFLE_BUFFER_SIZE, MEAN)\n",
    "    model, training_history, training_time = run_lstm(data_shape, batch_train, batch_val, train_slices, \n",
    "                                                      val_slices, BATCH_SIZE, EPOCHS, FUTURE_TARGET) \n",
    "    evaluate_results(model, training_history, test_ground_truth, batch_test, test_data_indexes, training_time)"
   ]
  },
  {
   "cell_type": "code",
   "execution_count": 2,
   "metadata": {
    "pycharm": {
     "is_executing": false
    }
   },
   "outputs": [],
   "source": [
    "# Load algorithm\n",
    "%run ./data_management_component.ipynb"
   ]
  },
  {
   "cell_type": "code",
   "execution_count": 3,
   "metadata": {
    "pycharm": {
     "is_executing": false
    }
   },
   "outputs": [],
   "source": [
    "%run ./nn_baseline.ipynb"
   ]
  },
  {
   "cell_type": "code",
   "execution_count": 4,
   "metadata": {
    "pycharm": {
     "is_executing": false
    }
   },
   "outputs": [],
   "source": [
    "%run ./evaluation_component.ipynb"
   ]
  },
  {
   "cell_type": "code",
   "execution_count": 11,
   "metadata": {
    "pycharm": {
     "is_executing": false
    }
   },
   "outputs": [],
   "source": [
    "ATTEMPT_NAME=\"NN_BASELINE\"\n",
    "DATASET_FILE_PATH= [\"Datasets\\\\uniformdata.xlsx\", \"Datasets\\\\uniformdata.xlsx\", \"Datasets\\\\uniformdata.xlsx\", \"Datasets\\\\uniformdata.xlsx\", \"Datasets\\\\uniformdata.xlsx\"]\n",
    "DATASET_SHEET_TITLE= [\"data_uniforma\", \"data_uniformb\", \"data_uniformc\", \"data_uniformd\", \"data_uniforme\"]\n",
    "GRANULARITY=10\n",
    "STEP_SIZE_SLIDING_WINDOW=5\n",
    "PAST_HISTORY=20\n",
    "FUTURE_TARGET=1\n",
    "VAL_PERCENT=0.1\n",
    "EPOCHS=5\n",
    "BATCH_SIZE=10\n",
    "SMOOTHING=50\n",
    "SHUFFLE_BUFFER_SIZE=100\n",
    "MEAN=False"
   ]
  },
  {
   "cell_type": "code",
   "execution_count": null,
   "metadata": {
    "pycharm": {
     "is_executing": false
    }
   },
   "outputs": [],
   "source": []
  },
  {
   "cell_type": "code",
   "execution_count": null,
   "metadata": {
    "pycharm": {
     "is_executing": false
    }
   },
   "outputs": [],
   "source": []
  },
  {
   "cell_type": "code",
   "execution_count": 6,
   "metadata": {
    "pycharm": {
     "is_executing": false
    }
   },
   "outputs": [
    {
     "name": "stdout",
     "output_type": "stream",
     "text": [
      "Working on dataset: Datasets\\uniformdata.xlsx data_uniforma TRAIN SET number 0\n",
      "(4430, 4, 8) (474, 4, 8)\n",
      "4430 0\n",
      "Working on dataset: Datasets\\uniformdata.xlsx data_uniformb TRAIN SET number 1\n",
      "(3467, 4, 8) (367, 4, 8)\n",
      "7897 474\n",
      "Working on dataset: Datasets\\uniformdata.xlsx data_uniformc TRAIN SET number 2\n",
      "(3596, 4, 8) (381, 4, 8)\n",
      "11493 841\n",
      "Working on dataset: Datasets\\uniformdata.xlsx data_uniformd TRAIN SET number 3\n",
      "(3925, 4, 8) (418, 4, 8)\n",
      "15418 1222\n",
      "Working on dataset: Datasets\\uniformdata.xlsx data_uniforme TEST SET\n"
     ]
    }
   ],
   "source": [
    "batch_train, batch_val, batch_test, test_ground_truth, train_slices, val_slices, test_data_indexes, data_shape = process_data(\n",
    "        DATASET_FILE_PATH, DATASET_SHEET_TITLE, GRANULARITY, SMOOTHING, ATTEMPT_NAME, VAL_PERCENT, PAST_HISTORY, \n",
    "        FUTURE_TARGET, STEP_SIZE_SLIDING_WINDOW, BATCH_SIZE, EPOCHS, SHUFFLE_BUFFER_SIZE, MEAN)"
   ]
  },
  {
   "cell_type": "code",
   "execution_count": 18,
   "metadata": {},
   "outputs": [],
   "source": [
    "%run ./nn_baseline.ipynb"
   ]
  },
  {
   "cell_type": "code",
   "execution_count": 19,
   "metadata": {
    "pycharm": {
     "is_executing": false
    }
   },
   "outputs": [
    {
     "name": "stdout",
     "output_type": "stream",
     "text": [
      "Model: \"sequential_2\"\n",
      "_________________________________________________________________\n",
      "Layer (type)                 Output Shape              Param #   \n",
      "=================================================================\n",
      "flatten_2 (Flatten)          (None, 32)                0         \n",
      "_________________________________________________________________\n",
      "dense_4 (Dense)              (None, 200)               6600      \n",
      "_________________________________________________________________\n",
      "dense_5 (Dense)              (None, 200)               40200     \n",
      "_________________________________________________________________\n",
      "dense_6 (Dense)              (None, 200)               40200     \n",
      "_________________________________________________________________\n",
      "dense_7 (Dense)              (None, 200)               40200     \n",
      "_________________________________________________________________\n",
      "dense_8 (Dense)              (None, 200)               40200     \n",
      "_________________________________________________________________\n",
      "dense_9 (Dense)              (None, 1)                 201       \n",
      "=================================================================\n",
      "Total params: 167,601\n",
      "Trainable params: 167,601\n",
      "Non-trainable params: 0\n",
      "_________________________________________________________________\n",
      "Train for 1541 steps, validate for 164 steps\n",
      "Epoch 1/5\n",
      "1541/1541 [==============================] - 10s 7ms/step - loss: 0.1962 - mae: 0.1962 - mape: 54.9749 - mse: 0.0926 - val_loss: 0.1960 - val_mae: 0.1960 - val_mape: 177.4215 - val_mse: 0.0589\n",
      "Epoch 2/5\n",
      "1541/1541 [==============================] - 10s 6ms/step - loss: 0.1321 - mae: 0.1321 - mape: 46.1362 - mse: 0.0293 - val_loss: 0.2765 - val_mae: 0.2765 - val_mape: 187.9042 - val_mse: 0.1146\n",
      "Epoch 3/5\n",
      "1541/1541 [==============================] - 10s 6ms/step - loss: 0.1205 - mae: 0.1205 - mape: 45.3294 - mse: 0.0244 - val_loss: 0.2917 - val_mae: 0.2917 - val_mape: 122.5808 - val_mse: 0.1369\n",
      "Epoch 4/5\n",
      "1541/1541 [==============================] - 9s 6ms/step - loss: 0.1146 - mae: 0.1146 - mape: 41.2195 - mse: 0.0228 - val_loss: 0.2037 - val_mae: 0.2037 - val_mape: 157.0381 - val_mse: 0.0634\n",
      "Epoch 5/5\n",
      "1541/1541 [==============================] - 9s 6ms/step - loss: 0.1106 - mae: 0.1106 - mape: 40.0340 - mse: 0.0212 - val_loss: 0.3524 - val_mae: 0.3524 - val_mape: 212.4559 - val_mse: 0.1756\n"
     ]
    }
   ],
   "source": [
    "DENSE_SIZE = 200\n",
    "DENSE_LAYER_NUM = 5\n",
    "model, training_history, training_time = run_nn(data_shape, batch_train, batch_val, train_slices, \n",
    "                                                  val_slices, BATCH_SIZE, EPOCHS, FUTURE_TARGET, DENSE_SIZE, DENSE_LAYER_NUM) "
   ]
  },
  {
   "cell_type": "code",
   "execution_count": 20,
   "metadata": {
    "pycharm": {
     "is_executing": false
    }
   },
   "outputs": [
    {
     "data": {
      "image/png": "[encoded data removed]",
      "text/plain": [
       "<Figure size 432x288 with 1 Axes>"
      ]
     },
     "metadata": {
      "needs_background": "light"
     },
     "output_type": "display_data"
    },
    {
     "name": "stdout",
     "output_type": "stream",
     "text": [
      "4172/4172 [==============================] - 13s 3ms/step - loss: 0.2971 - mae: 0.2971 - mape: 127.4992 - mse: 0.1228\n",
      "Total training time: 48.42507320000027 seconds\n",
      "Execution time: time 204.51486160000013, observations 4172, time per observation 0.04902082013422822 seconds\n"
     ]
    },
    {
     "data": {
      "image/png": "[encoded data removed]",
      "text/plain": [
       "<Figure size 432x288 with 1 Axes>"
      ]
     },
     "metadata": {
      "needs_background": "light"
     },
     "output_type": "display_data"
    }
   ],
   "source": [
    "%run ./evaluation_component.ipynb\n",
    "evaluate_results(model, training_history, test_ground_truth, batch_test, test_data_indexes, training_time)"
   ]
  },
  {
   "cell_type": "code",
   "execution_count": 13,
   "metadata": {
    "pycharm": {
     "is_executing": false
    }
   },
   "outputs": [],
   "source": []
  },
  {
   "cell_type": "code",
   "execution_count": 13,
   "metadata": {
    "pycharm": {
     "is_executing": false
    }
   },
   "outputs": [],
   "source": []
  },
  {
   "cell_type": "code",
   "execution_count": 13,
   "metadata": {
    "pycharm": {
     "is_executing": false
    }
   },
   "outputs": [],
   "source": []
  },
  {
   "cell_type": "code",
   "execution_count": 13,
   "metadata": {
    "pycharm": {
     "is_executing": false
    }
   },
   "outputs": [],
   "source": []
  },
  {
   "cell_type": "code",
   "execution_count": 13,
   "metadata": {
    "pycharm": {
     "is_executing": false
    }
   },
   "outputs": [],
   "source": []
  },
  {
   "cell_type": "code",
   "execution_count": 15,
   "metadata": {
    "pycharm": {
     "is_executing": false
    }
   },
   "outputs": [],
   "source": [
    "ATTEMPT_NAME=\"LSTM_BASELINE\"\n",
    "DATASET_FILE_PATH= [\"Datasets\\\\uniformdata.xlsx\", \"Datasets\\\\uniformdata.xlsx\", \"Datasets\\\\uniformdata.xlsx\", \"Datasets\\\\uniformdata.xlsx\", \"Datasets\\\\uniformdata.xlsx\"]\n",
    "DATASET_SHEET_TITLE= [\"data_uniforma\", \"data_uniformb\", \"data_uniformc\", \"data_uniformd\", \"data_uniforme\"]\n",
    "GRANULARITY=10\n",
    "STEP_SIZE_SLIDING_WINDOW=5\n",
    "PAST_HISTORY=20\n",
    "FUTURE_TARGET=1\n",
    "VAL_PERCENT=0.1\n",
    "EPOCHS=5\n",
    "BATCH_SIZE=10\n",
    "SMOOTHING=1\n",
    "SHUFFLE_BUFFER_SIZE=0\n",
    "MEAN=False\n",
    "\n",
    "run_all(DATASET_FILE_PATH, DATASET_SHEET_TITLE, GRANULARITY, STEP_SIZE_SLIDING_WINDOW, PAST_HISTORY, \n",
    "        FUTURE_TARGET, VAL_PERCENT, EPOCHS, BATCH_SIZE, SMOOTHING, ATTEMPT_NAME, SHUFFLE_BUFFER_SIZE, MEAN)"
   ]
  },
  {
   "cell_type": "code",
   "execution_count": null,
   "metadata": {
    "pycharm": {
     "is_executing": false
    }
   },
   "outputs": [],
   "source": [
    "ATTEMPT_NAME=\"LSTM_SHUFFLE\"\n",
    "DATASET_FILE_PATH= [\"Datasets\\\\uniformdata.xlsx\", \"Datasets\\\\uniformdata.xlsx\", \"Datasets\\\\uniformdata.xlsx\", \"Datasets\\\\uniformdata.xlsx\", \"Datasets\\\\uniformdata.xlsx\"]\n",
    "DATASET_SHEET_TITLE= [\"data_uniforma\", \"data_uniformb\", \"data_uniformc\", \"data_uniformd\", \"data_uniforme\"]\n",
    "GRANULARITY=10\n",
    "STEP_SIZE_SLIDING_WINDOW=5\n",
    "PAST_HISTORY=20\n",
    "FUTURE_TARGET=1\n",
    "VAL_PERCENT=0.1\n",
    "EPOCHS=5\n",
    "BATCH_SIZE=10\n",
    "SMOOTHING=1\n",
    "SHUFFLE_BUFFER_SIZE=100\n",
    "MEAN=False\n",
    "\n",
    "run_all(DATASET_FILE_PATH, DATASET_SHEET_TITLE, GRANULARITY, STEP_SIZE_SLIDING_WINDOW, PAST_HISTORY, \n",
    "            FUTURE_TARGET, VAL_PERCENT, EPOCHS, BATCH_SIZE, SMOOTHING, ATTEMPT_NAME, SHUFFLE_BUFFER_SIZE, MEAN)"
   ]
  },
  {
   "cell_type": "code",
   "execution_count": null,
   "metadata": {
    "pycharm": {
     "is_executing": false
    }
   },
   "outputs": [],
   "source": [
    "ATTEMPT_NAME=\"LSTM_HIGH_EPOCH\"\n",
    "DATASET_FILE_PATH= [\"Datasets\\\\uniformdata.xlsx\", \"Datasets\\\\uniformdata.xlsx\", \"Datasets\\\\uniformdata.xlsx\", \"Datasets\\\\uniformdata.xlsx\", \"Datasets\\\\uniformdata.xlsx\"]\n",
    "DATASET_SHEET_TITLE= [\"data_uniforma\", \"data_uniformb\", \"data_uniformc\", \"data_uniformd\", \"data_uniforme\"]\n",
    "GRANULARITY=10\n",
    "STEP_SIZE_SLIDING_WINDOW=5\n",
    "PAST_HISTORY=20\n",
    "FUTURE_TARGET=1\n",
    "VAL_PERCENT=0.1\n",
    "EPOCHS=20\n",
    "BATCH_SIZE=10\n",
    "SMOOTHING=1\n",
    "SHUFFLE_BUFFER_SIZE=0\n",
    "MEAN=False\n",
    "\n",
    "run_all(DATASET_FILE_PATH, DATASET_SHEET_TITLE, GRANULARITY, STEP_SIZE_SLIDING_WINDOW, PAST_HISTORY, \n",
    "            FUTURE_TARGET, VAL_PERCENT, EPOCHS, BATCH_SIZE, SMOOTHING, ATTEMPT_NAME, SHUFFLE_BUFFER_SIZE, MEAN)"
   ]
  },
  {
   "cell_type": "code",
   "execution_count": null,
   "metadata": {
    "pycharm": {
     "is_executing": false
    }
   },
   "outputs": [],
   "source": [
    "ATTEMPT_NAME=\"LSTM_LARGE_PAST_HISTORY\"\n",
    "DATASET_FILE_PATH= [\"Datasets\\\\uniformdata.xlsx\", \"Datasets\\\\uniformdata.xlsx\", \"Datasets\\\\uniformdata.xlsx\", \"Datasets\\\\uniformdata.xlsx\", \"Datasets\\\\uniformdata.xlsx\"]\n",
    "DATASET_SHEET_TITLE= [\"data_uniforma\", \"data_uniformb\", \"data_uniformc\", \"data_uniformd\", \"data_uniforme\"]\n",
    "GRANULARITY=10\n",
    "STEP_SIZE_SLIDING_WINDOW=5\n",
    "PAST_HISTORY=100\n",
    "FUTURE_TARGET=1\n",
    "VAL_PERCENT=0.1\n",
    "EPOCHS=5\n",
    "BATCH_SIZE=10\n",
    "SMOOTHING=1\n",
    "SHUFFLE_BUFFER_SIZE=0\n",
    "MEAN=False\n",
    "\n",
    "run_all(DATASET_FILE_PATH, DATASET_SHEET_TITLE, GRANULARITY, STEP_SIZE_SLIDING_WINDOW, PAST_HISTORY, \n",
    "            FUTURE_TARGET, VAL_PERCENT, EPOCHS, BATCH_SIZE, SMOOTHING, ATTEMPT_NAME, SHUFFLE_BUFFER_SIZE, MEAN)"
   ]
  },
  {
   "cell_type": "code",
   "execution_count": null,
   "metadata": {
    "pycharm": {
     "is_executing": false
    }
   },
   "outputs": [],
   "source": [
    "ATTEMPT_NAME=\"LSTM_SMOOTHING\"\n",
    "DATASET_FILE_PATH= [\"Datasets\\\\uniformdata.xlsx\", \"Datasets\\\\uniformdata.xlsx\", \"Datasets\\\\uniformdata.xlsx\", \"Datasets\\\\uniformdata.xlsx\", \"Datasets\\\\uniformdata.xlsx\"]\n",
    "DATASET_SHEET_TITLE= [\"data_uniforma\", \"data_uniformb\", \"data_uniformc\", \"data_uniformd\", \"data_uniforme\"]\n",
    "GRANULARITY=10\n",
    "STEP_SIZE_SLIDING_WINDOW=5\n",
    "PAST_HISTORY=20\n",
    "FUTURE_TARGET=1\n",
    "VAL_PERCENT=0.1\n",
    "EPOCHS=5\n",
    "BATCH_SIZE=10\n",
    "SMOOTHING=50\n",
    "SHUFFLE_BUFFER_SIZE=0\n",
    "MEAN=False\n",
    "\n",
    "run_all(DATASET_FILE_PATH, DATASET_SHEET_TITLE, GRANULARITY, STEP_SIZE_SLIDING_WINDOW, PAST_HISTORY, \n",
    "            FUTURE_TARGET, VAL_PERCENT, EPOCHS, BATCH_SIZE, SMOOTHING, ATTEMPT_NAME, SHUFFLE_BUFFER_SIZE, MEAN)"
   ]
  },
  {
   "cell_type": "code",
   "execution_count": 1,
   "metadata": {
    "pycharm": {
     "is_executing": false
    }
   },
   "outputs": [
    {
     "ename": "NameError",
     "evalue": "name 'run_all' is not defined",
     "output_type": "error",
     "traceback": [
      "\u001b[1;31m---------------------------------------------------------------------------\u001b[0m",
      "\u001b[1;31mNameError\u001b[0m                                 Traceback (most recent call last)",
      "\u001b[1;32m<ipython-input-1-68daf2227fa6>\u001b[0m in \u001b[0;36m<module>\u001b[1;34m\u001b[0m\n\u001b[0;32m     13\u001b[0m \u001b[0mMEAN\u001b[0m\u001b[1;33m=\u001b[0m\u001b[1;32mTrue\u001b[0m\u001b[1;33m\u001b[0m\u001b[1;33m\u001b[0m\u001b[0m\n\u001b[0;32m     14\u001b[0m \u001b[1;33m\u001b[0m\u001b[0m\n\u001b[1;32m---> 15\u001b[1;33m run_all(DATASET_FILE_PATH, DATASET_SHEET_TITLE, GRANULARITY, STEP_SIZE_SLIDING_WINDOW, PAST_HISTORY, \n\u001b[0m\u001b[0;32m     16\u001b[0m             FUTURE_TARGET, VAL_PERCENT, EPOCHS, BATCH_SIZE, SMOOTHING, ATTEMPT_NAME, SHUFFLE_BUFFER_SIZE, MEAN)\n",
      "\u001b[1;31mNameError\u001b[0m: name 'run_all' is not defined"
     ]
    }
   ],
   "source": [
    "ATTEMPT_NAME=\"LSTM_MEAN\"\n",
    "DATASET_FILE_PATH= [\"Datasets\\\\uniformdata.xlsx\", \"Datasets\\\\uniformdata.xlsx\", \"Datasets\\\\uniformdata.xlsx\", \"Datasets\\\\uniformdata.xlsx\", \"Datasets\\\\uniformdata.xlsx\"]\n",
    "DATASET_SHEET_TITLE= [\"data_uniforma\", \"data_uniformb\", \"data_uniformc\", \"data_uniformd\", \"data_uniforme\"]\n",
    "GRANULARITY=10\n",
    "STEP_SIZE_SLIDING_WINDOW=5\n",
    "PAST_HISTORY=20\n",
    "FUTURE_TARGET=1\n",
    "VAL_PERCENT=0.1\n",
    "EPOCHS=5\n",
    "BATCH_SIZE=10\n",
    "SMOOTHING=1\n",
    "SHUFFLE_BUFFER_SIZE=0\n",
    "MEAN=True\n",
    "\n",
    "run_all(DATASET_FILE_PATH, DATASET_SHEET_TITLE, GRANULARITY, STEP_SIZE_SLIDING_WINDOW, PAST_HISTORY, \n",
    "            FUTURE_TARGET, VAL_PERCENT, EPOCHS, BATCH_SIZE, SMOOTHING, ATTEMPT_NAME, SHUFFLE_BUFFER_SIZE, MEAN)"
   ]
  },
  {
   "cell_type": "code",
   "execution_count": null,
   "metadata": {},
   "outputs": [],
   "source": [
    "ATTEMPT_NAME=\"CNN_BASELINE\"\n",
    "DATASET_FILE_PATH= [\"Datasets\\\\uniformdata.xlsx\", \"Datasets\\\\uniformdata.xlsx\", \"Datasets\\\\uniformdata.xlsx\", \"Datasets\\\\uniformdata.xlsx\", \"Datasets\\\\uniformdata.xlsx\"]\n",
    "DATASET_SHEET_TITLE= [\"data_uniforma\", \"data_uniformb\", \"data_uniformc\", \"data_uniformd\", \"data_uniforme\"]\n",
    "GRANULARITY=10\n",
    "STEP_SIZE_SLIDING_WINDOW=5\n",
    "PAST_HISTORY=200           # PASTHISTORY/STEPSIZE NEEDS TO BE LARGER THAN KERNEL SIZE OF CNN\n",
    "FUTURE_TARGET=1\n",
    "VAL_PERCENT=0.1\n",
    "EPOCHS=5\n",
    "BATCH_SIZE=10\n",
    "SMOOTHING=50\n",
    "SHUFFLE_BUFFER_SIZE=100\n",
    "MEAN=False"
   ]
  },
  {
   "cell_type": "code",
   "execution_count": null,
   "metadata": {},
   "outputs": [],
   "source": []
  }
 ],
 "metadata": {
  "kernelspec": {
   "display_name": "Python 3",
   "language": "python",
   "name": "python3"
  },
  "language_info": {
   "codemirror_mode": {
    "name": "ipython",
    "version": 3
   },
   "file_extension": ".py",
   "mimetype": "text/x-python",
   "name": "python",
   "nbconvert_exporter": "python",
   "pygments_lexer": "ipython3",
   "version": "3.7.4"
  },
  "pycharm": {
   "stem_cell": {
    "cell_type": "raw",
    "metadata": {
     "collapsed": false
    },
    "source": []
   }
  }
 },
 "nbformat": 4,
 "nbformat_minor": 2
}
