{
 "cells": [
  {
   "cell_type": "code",
   "execution_count": null,
   "metadata": {
    "pycharm": {
     "is_executing": false
    }
   },
   "outputs": [],
   "source": [
    "# Imports\n",
    "import tensorflow as tf\n",
    "import matplotlib as mpl\n",
    "import matplotlib.pyplot as plt\n",
    "import numpy as np\n",
    "import pandas as pd\n",
    "from timeit import default_timer as timer\n",
    "\n",
    "plt.rcParams[\"figure.figsize\"] = (20,10)"
   ]
  },
  {
   "cell_type": "code",
   "execution_count": null,
   "metadata": {
    "pycharm": {
     "is_executing": false
    }
   },
   "outputs": [],
   "source": [
    "# Parameters \n",
    "# ATTEMPT_NAME=\"LSTM_BASELINE\"\n",
    "# DATASET_FILE_PATH= [\"Datasets\\\\uniformdata.xlsx\", \"Datasets\\\\uniformdata.xlsx\", \"Datasets\\\\uniformdata.xlsx\", \"Datasets\\\\uniformdata.xlsx\", \"Datasets\\\\uniformdata.xlsx\"]\n",
    "# DATASET_SHEET_TITLE= [\"data_uniforma\", \"data_uniformb\", \"data_uniformc\", \"data_uniformd\", \"data_uniforme\"]\n",
    "# GRANULARITY=10\n",
    "# STEP_SIZE_SLIDING_WINDOW=5\n",
    "# PAST_HISTORY=20\n",
    "# FUTURE_TARGET=1\n",
    "# VAL_PERCENT=0.1\n",
    "# EPOCHS=5\n",
    "# BATCH_SIZE=10\n",
    "# SMOOTHING=50\n",
    "# SHUFFLE_BUFFER_SIZE=100\n",
    "# MEAN=False\n",
    "# USE_REF_POINTS=False\n",
    "# REF_POINT1=0\n",
    "# REF_POINT2=7"
   ]
  },
  {
   "cell_type": "code",
   "execution_count": null,
   "metadata": {
    "pycharm": {
     "is_executing": false
    }
   },
   "outputs": [],
   "source": [
    "def run_all(DATASET_FILE_PATH, DATASET_SHEET_TITLE, GRANULARITY, STEP_SIZE_SLIDING_WINDOW, PAST_HISTORY, \n",
    "            FUTURE_TARGET, VAL_PERCENT, EPOCHS, BATCH_SIZE, SMOOTHING, ATTEMPT_NAME, SHUFFLE_BUFFER_SIZE, MEAN,\n",
    "            USE_REF_POINTS, REF_POINT1, REF_POINT2): \n",
    "    batch_train, batch_val, batch_test, test_ground_truth, train_slices, val_slices, test_data_indexes, data_shape = process_data(\n",
    "        DATASET_FILE_PATH, DATASET_SHEET_TITLE, GRANULARITY, SMOOTHING, VAL_PERCENT, PAST_HISTORY, \n",
    "        FUTURE_TARGET, STEP_SIZE_SLIDING_WINDOW, BATCH_SIZE, EPOCHS, SHUFFLE_BUFFER_SIZE, MEAN, \n",
    "        USE_REF_POINTS, REF_POINT1, REF_POINT2)\n",
    "    model, training_history, training_time = run_cnn(data_shape, batch_train, batch_val, train_slices, \n",
    "                                                      val_slices, BATCH_SIZE, EPOCHS, FUTURE_TARGET) \n",
    "    evaluate_results(model, training_history, test_ground_truth, batch_test, test_data_indexes, training_time)"
   ]
  },
  {
   "cell_type": "code",
   "execution_count": null,
   "metadata": {
    "pycharm": {
     "is_executing": false
    }
   },
   "outputs": [],
   "source": [
    "# Load components\n",
    "%run ./data_management_component.ipynb"
   ]
  },
  {
   "cell_type": "code",
   "execution_count": null,
   "metadata": {},
   "outputs": [],
   "source": [
    "%run ./cnn_baseline.ipynb"
   ]
  },
  {
   "cell_type": "code",
   "execution_count": null,
   "metadata": {},
   "outputs": [],
   "source": [
    "%run ./lstm_baseline.ipynb"
   ]
  },
  {
   "cell_type": "code",
   "execution_count": null,
   "metadata": {},
   "outputs": [],
   "source": [
    "%run ./nn_baseline.ipynb"
   ]
  },
  {
   "cell_type": "code",
   "execution_count": null,
   "metadata": {},
   "outputs": [],
   "source": [
    "%run ./parallel_model.ipynb"
   ]
  },
  {
   "cell_type": "code",
   "execution_count": null,
   "metadata": {},
   "outputs": [],
   "source": [
    "%run ./parallel_model_deep.ipynb"
   ]
  },
  {
   "cell_type": "code",
   "execution_count": null,
   "metadata": {},
   "outputs": [],
   "source": [
    "%run ./evaluation_component.ipynb"
   ]
  },
  {
   "cell_type": "code",
   "execution_count": null,
   "metadata": {
    "scrolled": true
   },
   "outputs": [],
   "source": [
    "DATASET_FILE_PATH=[\"Datasets\\\\SingleSessionData.xlsx\",\"Datasets\\\\SingleSessionData.xlsx\",\"Datasets\\\\SingleSessionData.xlsx\",\"Datasets\\\\SingleSessionData.xlsx\",\"Datasets\\\\SessionToSessionOne.xlsx\",\"Datasets\\\\SessionToSessionOne.xlsx\",\"Datasets\\\\SessionToSessionOne.xlsx\",\"Datasets\\\\SessionToSessionOne.xlsx\",\"Datasets\\\\SessionToSessionTwo.xlsx\",\"Datasets\\\\SessionToSessionTwo.xlsx\",\"Datasets\\\\SessionToSessionTwo.xlsx\",\"Datasets\\\\SessionToSessionTwo.xlsx\",\"Datasets\\\\SessionToSessionThree.xlsx\",\"Datasets\\\\SessionToSessionThree.xlsx\",\"Datasets\\\\SessionToSessionThree.xlsx\",\"Datasets\\\\SessionToSessionThree.xlsx\",\"Datasets\\\\SessionToSessionFour.xlsx\",\"Datasets\\\\SessionToSessionFour.xlsx\",\"Datasets\\\\SessionToSessionFour.xlsx\",\"Datasets\\\\SessionToSessionFour.xlsx\"]\n",
    "DATASET_SHEET_TITLE=[\"data_Uniform\",\"data_NonUniform\",\"data_NonUniformWithPause\",\"data_NonUniformTwo\",\"data_Uniform\",\"data_NonUniform\",\"data_NonUniformWithPause\",\"data_UniformWithPause\",\"data_Uniform\",\"data_UniformTwo\",\"data_NonUniform\",\"data_NonUniformTwo\",\"data_Uniform\",\"data_UniformTwo\",\"data_NonUniform\",\"data_NonUniformTwo\",\"data_NonUniform\",\"data_NonUniformTwo\",\"data_Uniform\",\"data_UniformTwo\"]\n",
    "GRANULARITY=10\n",
    "STEP_SIZE_SLIDING_WINDOW=1\n",
    "PAST_HISTORY=100\n",
    "FUTURE_TARGET=1\n",
    "VAL_PERCENT=0.15\n",
    "EPOCHS=100 # Max epochs, in case early stopping doesn't take effect\n",
    "MIN_DELTA=0.0001\n",
    "PATIENCE=10\n",
    "BATCH_SIZE=500\n",
    "SMOOTHING=50\n",
    "SHUFFLE_BUFFER_SIZE=0\n",
    "MEAN=False\n",
    "USE_REF_POINTS=False\n",
    "REF_POINT1=0\n",
    "REF_POINT2=7\n",
    "\n",
    "plt.rcParams[\"figure.figsize\"] = (20,10)\n",
    "\n",
    "# Load data\n",
    "batch_train, batch_val, batch_test, batch_plot, test_ground_truth, train_slices, val_slices, test_data_indexes, data_shape = process_data(\n",
    "    DATASET_FILE_PATH, DATASET_SHEET_TITLE, GRANULARITY, SMOOTHING, VAL_PERCENT, PAST_HISTORY, \n",
    "    FUTURE_TARGET, STEP_SIZE_SLIDING_WINDOW, BATCH_SIZE, EPOCHS, SHUFFLE_BUFFER_SIZE, MEAN, \n",
    "    USE_REF_POINTS, REF_POINT1, REF_POINT2)"
   ]
  },
  {
   "cell_type": "code",
   "execution_count": null,
   "metadata": {
    "pycharm": {
     "is_executing": false
    }
   },
   "outputs": [],
   "source": []
  },
  {
   "cell_type": "code",
   "execution_count": null,
   "metadata": {
    "pycharm": {
     "is_executing": false
    }
   },
   "outputs": [],
   "source": []
  },
  {
   "cell_type": "code",
   "execution_count": null,
   "metadata": {
    "pycharm": {
     "is_executing": false
    },
    "scrolled": true
   },
   "outputs": [],
   "source": [
    "ATTEMPT_NAME=\"CNN_BASELINE\"\n",
    "KERNEL_SIZE=10\n",
    "FILTERS=32\n",
    "PADDING=\"valid\"\n",
    "\n",
    "# TODO TOMORROW:\n",
    "# Find den rigtige optimizer (rmsprop eller adagrad)\n",
    "# Kod så vi tester på en hel session på en gang\n",
    "# Prøv med shufflebuffer igen, det kan sgu godt være\n",
    "# Prøv uden de dataset hvor sensoren er død\n",
    "\n",
    "# Lav comparison mellem følgende lstm'er: rmsprop, adagrad, adam (done), shufflebuffer, earlystopping-restore-values\n",
    "# TRY RESTORE PARAMETERS ON EARLY STOPPING!\n",
    "\n",
    "model, training_history, training_time = run_cnn(data_shape, batch_train, batch_val, train_slices, val_slices, BATCH_SIZE, EPOCHS, FUTURE_TARGET, KERNEL_SIZE, FILTERS, PADDING, MIN_DELTA, PATIENCE) \n",
    "evaluate_results(model, training_history, test_ground_truth, batch_test, batch_plot, test_data_indexes, training_time)"
   ]
  },
  {
   "cell_type": "code",
   "execution_count": null,
   "metadata": {
    "pycharm": {
     "is_executing": false
    }
   },
   "outputs": [],
   "source": [
    "ATTEMPT_NAME=\"NN_BASELINE\"\n",
    "DENSE_SIZE = 200\n",
    "DENSE_LAYER_NUM = 1\n",
    "\n",
    "model, training_history, training_time = run_nn(data_shape, batch_train, batch_val, train_slices, val_slices, BATCH_SIZE, EPOCHS, FUTURE_TARGET, DENSE_SIZE, DENSE_LAYER_NUM, MIN_DELTA, PATIENCE)\n",
    "evaluate_results(model, training_history, test_ground_truth, batch_test, test_data_indexes, training_time)"
   ]
  },
  {
   "cell_type": "code",
   "execution_count": null,
   "metadata": {
    "pycharm": {
     "is_executing": false
    },
    "scrolled": true
   },
   "outputs": [],
   "source": [
    "ATTEMPT_NAME=\"LSTM_BASELINE\"\n",
    "LAYER_SIZE = 32\n",
    "\n",
    "model, training_history, training_time = run_lstm(data_shape, batch_train, batch_val, train_slices, val_slices, BATCH_SIZE, EPOCHS, FUTURE_TARGET, MIN_DELTA, PATIENCE, LAYER_SIZE)\n",
    "evaluate_results(model, training_history, test_ground_truth, batch_test, test_data_indexes, training_time)"
   ]
  },
  {
   "cell_type": "code",
   "execution_count": null,
   "metadata": {
    "pycharm": {
     "is_executing": false
    }
   },
   "outputs": [],
   "source": [
    "ATTEMPT_NAME=\"PARALLEL_BASELINE\"\n",
    "KERNEL_SIZE=10\n",
    "FILTERS=32\n",
    "PADDING=\"valid\"\n",
    "LAYER_SIZE = 32\n",
    "\n",
    "model, training_history, training_time = run_parallel(data_shape, batch_train, batch_val, train_slices, val_slices, BATCH_SIZE, EPOCHS, FUTURE_TARGET, MIN_DELTA, PATIENCE, KERNEL_SIZE, FILTERS, PADDING, LAYER_SIZE)\n",
    "evaluate_results(model, training_history, test_ground_truth, batch_test, test_data_indexes, training_time)"
   ]
  },
  {
   "cell_type": "code",
   "execution_count": null,
   "metadata": {
    "scrolled": true
   },
   "outputs": [],
   "source": [
    "ATTEMPT_NAME=\"PARALLEL_DEEP\"\n",
    "KERNEL_SIZE=10\n",
    "FILTERS=32\n",
    "PADDING=\"valid\"\n",
    "LAYER_SIZE = 32\n",
    "DENSE_SIZE = 32\n",
    "\n",
    "model, training_history, training_time = run_parallel_deep(data_shape, batch_train, batch_val, train_slices, val_slices, BATCH_SIZE, EPOCHS, FUTURE_TARGET, MIN_DELTA, PATIENCE, KERNEL_SIZE, FILTERS, PADDING, LAYER_SIZE, DENSE_SIZE)\n",
    "evaluate_results(model, training_history, test_ground_truth, batch_test, test_data_indexes, training_time)"
   ]
  },
  {
   "cell_type": "code",
   "execution_count": null,
   "metadata": {
    "pycharm": {
     "is_executing": false
    }
   },
   "outputs": [],
   "source": []
  },
  {
   "cell_type": "code",
   "execution_count": null,
   "metadata": {
    "pycharm": {
     "is_executing": false
    }
   },
   "outputs": [],
   "source": []
  },
  {
   "cell_type": "code",
   "execution_count": null,
   "metadata": {
    "pycharm": {
     "is_executing": false
    }
   },
   "outputs": [],
   "source": []
  },
  {
   "cell_type": "code",
   "execution_count": null,
   "metadata": {
    "pycharm": {
     "is_executing": false
    }
   },
   "outputs": [],
   "source": []
  },
  {
   "cell_type": "code",
   "execution_count": null,
   "metadata": {
    "pycharm": {
     "is_executing": false
    }
   },
   "outputs": [],
   "source": []
  },
  {
   "cell_type": "code",
   "execution_count": null,
   "metadata": {
    "pycharm": {
     "is_executing": false
    }
   },
   "outputs": [],
   "source": []
  },
  {
   "cell_type": "code",
   "execution_count": null,
   "metadata": {
    "pycharm": {
     "is_executing": false
    }
   },
   "outputs": [],
   "source": []
  },
  {
   "cell_type": "code",
   "execution_count": null,
   "metadata": {
    "pycharm": {
     "is_executing": false
    }
   },
   "outputs": [],
   "source": []
  },
  {
   "cell_type": "code",
   "execution_count": null,
   "metadata": {
    "pycharm": {
     "is_executing": false
    }
   },
   "outputs": [],
   "source": []
  },
  {
   "cell_type": "code",
   "execution_count": null,
   "metadata": {
    "pycharm": {
     "is_executing": false
    }
   },
   "outputs": [],
   "source": []
  },
  {
   "cell_type": "code",
   "execution_count": null,
   "metadata": {
    "pycharm": {
     "is_executing": false
    }
   },
   "outputs": [],
   "source": []
  },
  {
   "cell_type": "code",
   "execution_count": null,
   "metadata": {
    "pycharm": {
     "is_executing": false
    }
   },
   "outputs": [],
   "source": []
  },
  {
   "cell_type": "code",
   "execution_count": null,
   "metadata": {
    "pycharm": {
     "is_executing": false
    }
   },
   "outputs": [],
   "source": []
  },
  {
   "cell_type": "code",
   "execution_count": null,
   "metadata": {},
   "outputs": [],
   "source": []
  },
  {
   "cell_type": "code",
   "execution_count": null,
   "metadata": {},
   "outputs": [],
   "source": []
  }
 ],
 "metadata": {
  "kernelspec": {
   "display_name": "Python 3",
   "language": "python",
   "name": "python3"
  },
  "language_info": {
   "codemirror_mode": {
    "name": "ipython",
    "version": 3
   },
   "file_extension": ".py",
   "mimetype": "text/x-python",
   "name": "python",
   "nbconvert_exporter": "python",
   "pygments_lexer": "ipython3",
   "version": "3.7.4"
  },
  "pycharm": {
   "stem_cell": {
    "cell_type": "raw",
    "metadata": {
     "collapsed": false
    },
    "source": []
   }
  }
 },
 "nbformat": 4,
 "nbformat_minor": 2
}
